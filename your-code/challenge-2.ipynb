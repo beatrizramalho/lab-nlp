{
 "cells": [
  {
   "cell_type": "markdown",
   "metadata": {},
   "source": [
    "# Challenge 2: Sentiment Analysis\n",
    "\n",
    "In this challenge we will learn sentiment analysis and practice performing sentiment analysis on Twitter tweets. \n",
    "\n",
    "## Introduction\n",
    "\n",
    "Sentiment analysis is to *systematically identify, extract, quantify, and study affective states and subjective information* based on texts ([reference](https://en.wikipedia.org/wiki/Sentiment_analysis)). In simple words, it's to understand whether a person is happy or unhappy in producing the piece of text. Why we (or rather, companies) care about sentiment in texts? It's because by understanding the sentiments in texts, we will be able to know if our customers are happy or unhappy about our products and services. If they are unhappy, the subsequent action is to figure out what have caused the unhappiness and make improvements.\n",
    "\n",
    "Basic sentiment analysis only understands the *positive* or *negative* (sometimes *neutral* too) polarities of the sentiment. More advanced sentiment analysis will also consider dimensions such as agreement, subjectivity, confidence, irony, and so on. In this challenge we will conduct the basic positive vs negative sentiment analysis based on real Twitter tweets.\n",
    "\n",
    "NLTK comes with a [sentiment analysis package](https://www.nltk.org/api/nltk.sentiment.html). This package is great for dummies to perform sentiment analysis because it requires only the textual data to make predictions. For example:\n",
    "\n",
    "```python\n",
    ">>> from nltk.sentiment.vader import SentimentIntensityAnalyzer\n",
    ">>> txt = \"Ironhack is a Global Tech School ranked num 2 worldwide.  ",
    " ",
    "Our mission is to help people transform their careers and join a thriving community of tech professionals that love what they do.\"\n",
    ">>> analyzer = SentimentIntensityAnalyzer()\n",
    ">>> analyzer.polarity_scores(txt)\n",
    "{'neg': 0.0, 'neu': 0.741, 'pos': 0.259, 'compound': 0.8442}\n",
    "```\n",
    "\n",
    "In this challenge, however, you will not use NLTK's sentiment analysis package because in your Machine Learning training in the past 2 weeks you have learned how to make predictions more accurate than that. The [tweets data](https://www.kaggle.com/kazanova/sentiment140) we will be using today are already coded for the positive/negative sentiment. You will be able to use the Naïve Bayes classifier you learned in the lesson to predict the sentiment of tweets based on the labels."
   ]
  },
  {
   "cell_type": "markdown",
   "metadata": {},
   "source": [
    "## Conducting Sentiment Analysis\n",
    "\n",
    "### Loading and Exploring Data\n",
    "\n",
    "The dataset we'll be using today is located on Kaggle (https://www.kaggle.com/kazanova/sentiment140). Once you have downloaded and imported the dataset, it you will need to define the columns names: df.columns = ['target','id','date','flag','user','text']\n",
    "\n",
    "*Notes:* \n",
    "\n",
    "* The dataset is huuuuge (1.6m tweets). When you develop your data analysis codes, you can sample a subset of the data (e.g. 20k records) so that you will save a lot of time when you test your codes."
   ]
  },
  {
   "cell_type": "code",
   "execution_count": 2,
   "metadata": {},
   "outputs": [
    {
     "data": {
      "text/html": [
       "<div>\n",
       "<style scoped>\n",
       "    .dataframe tbody tr th:only-of-type {\n",
       "        vertical-align: middle;\n",
       "    }\n",
       "\n",
       "    .dataframe tbody tr th {\n",
       "        vertical-align: top;\n",
       "    }\n",
       "\n",
       "    .dataframe thead th {\n",
       "        text-align: right;\n",
       "    }\n",
       "</style>\n",
       "<table border=\"1\" class=\"dataframe\">\n",
       "  <thead>\n",
       "    <tr style=\"text-align: right;\">\n",
       "      <th></th>\n",
       "      <th>target</th>\n",
       "      <th>id</th>\n",
       "      <th>date</th>\n",
       "      <th>flag</th>\n",
       "      <th>user</th>\n",
       "      <th>text</th>\n",
       "    </tr>\n",
       "  </thead>\n",
       "  <tbody>\n",
       "    <tr>\n",
       "      <th>0</th>\n",
       "      <td>0</td>\n",
       "      <td>1467810369</td>\n",
       "      <td>Mon Apr 06 22:19:45 PDT 2009</td>\n",
       "      <td>NO_QUERY</td>\n",
       "      <td>_TheSpecialOne_</td>\n",
       "      <td>@switchfoot http://twitpic.com/2y1zl - Awww, t...</td>\n",
       "    </tr>\n",
       "    <tr>\n",
       "      <th>1</th>\n",
       "      <td>0</td>\n",
       "      <td>1467810672</td>\n",
       "      <td>Mon Apr 06 22:19:49 PDT 2009</td>\n",
       "      <td>NO_QUERY</td>\n",
       "      <td>scotthamilton</td>\n",
       "      <td>is upset that he can't update his Facebook by ...</td>\n",
       "    </tr>\n",
       "    <tr>\n",
       "      <th>2</th>\n",
       "      <td>0</td>\n",
       "      <td>1467810917</td>\n",
       "      <td>Mon Apr 06 22:19:53 PDT 2009</td>\n",
       "      <td>NO_QUERY</td>\n",
       "      <td>mattycus</td>\n",
       "      <td>@Kenichan I dived many times for the ball. Man...</td>\n",
       "    </tr>\n",
       "    <tr>\n",
       "      <th>3</th>\n",
       "      <td>0</td>\n",
       "      <td>1467811184</td>\n",
       "      <td>Mon Apr 06 22:19:57 PDT 2009</td>\n",
       "      <td>NO_QUERY</td>\n",
       "      <td>ElleCTF</td>\n",
       "      <td>my whole body feels itchy and like its on fire</td>\n",
       "    </tr>\n",
       "    <tr>\n",
       "      <th>4</th>\n",
       "      <td>0</td>\n",
       "      <td>1467811193</td>\n",
       "      <td>Mon Apr 06 22:19:57 PDT 2009</td>\n",
       "      <td>NO_QUERY</td>\n",
       "      <td>Karoli</td>\n",
       "      <td>@nationwideclass no, it's not behaving at all....</td>\n",
       "    </tr>\n",
       "  </tbody>\n",
       "</table>\n",
       "</div>"
      ],
      "text/plain": [
       "   target          id                          date      flag  \\\n",
       "0       0  1467810369  Mon Apr 06 22:19:45 PDT 2009  NO_QUERY   \n",
       "1       0  1467810672  Mon Apr 06 22:19:49 PDT 2009  NO_QUERY   \n",
       "2       0  1467810917  Mon Apr 06 22:19:53 PDT 2009  NO_QUERY   \n",
       "3       0  1467811184  Mon Apr 06 22:19:57 PDT 2009  NO_QUERY   \n",
       "4       0  1467811193  Mon Apr 06 22:19:57 PDT 2009  NO_QUERY   \n",
       "\n",
       "              user                                               text  \n",
       "0  _TheSpecialOne_  @switchfoot http://twitpic.com/2y1zl - Awww, t...  \n",
       "1    scotthamilton  is upset that he can't update his Facebook by ...  \n",
       "2         mattycus  @Kenichan I dived many times for the ball. Man...  \n",
       "3          ElleCTF    my whole body feels itchy and like its on fire   \n",
       "4           Karoli  @nationwideclass no, it's not behaving at all....  "
      ]
     },
     "execution_count": 2,
     "metadata": {},
     "output_type": "execute_result"
    }
   ],
   "source": [
    "#import pandas as pd\n",
    "\n",
    "#colnames = [\"target\", \"id\", \"date\", \"flag\", \"user\", \"text\"]\n",
    "#tweets = pd.read_csv('C:\\\\Users\\\\beatr\\\\Documents\\\\Beatriz\\\\Ironhack\\\\lab-nlp\\\\training.1600000.processed.noemoticon.csv', names = colnames, header = None, encoding = 'latin-1')\n",
    "#tweets.head()"
   ]
  },
  {
   "cell_type": "code",
   "execution_count": 2,
   "metadata": {},
   "outputs": [
    {
     "data": {
      "text/html": [
       "<div>\n",
       "<style scoped>\n",
       "    .dataframe tbody tr th:only-of-type {\n",
       "        vertical-align: middle;\n",
       "    }\n",
       "\n",
       "    .dataframe tbody tr th {\n",
       "        vertical-align: top;\n",
       "    }\n",
       "\n",
       "    .dataframe thead th {\n",
       "        text-align: right;\n",
       "    }\n",
       "</style>\n",
       "<table border=\"1\" class=\"dataframe\">\n",
       "  <thead>\n",
       "    <tr style=\"text-align: right;\">\n",
       "      <th></th>\n",
       "      <th>target</th>\n",
       "      <th>id</th>\n",
       "      <th>date</th>\n",
       "      <th>flag</th>\n",
       "      <th>user</th>\n",
       "      <th>text</th>\n",
       "    </tr>\n",
       "  </thead>\n",
       "  <tbody>\n",
       "    <tr>\n",
       "      <th>0</th>\n",
       "      <td>0</td>\n",
       "      <td>1467810369</td>\n",
       "      <td>Mon Apr 06 22:19:45 PDT 2009</td>\n",
       "      <td>NO_QUERY</td>\n",
       "      <td>_TheSpecialOne_</td>\n",
       "      <td>@switchfoot http://twitpic.com/2y1zl - Awww, t...</td>\n",
       "    </tr>\n",
       "    <tr>\n",
       "      <th>1</th>\n",
       "      <td>0</td>\n",
       "      <td>1467810672</td>\n",
       "      <td>Mon Apr 06 22:19:49 PDT 2009</td>\n",
       "      <td>NO_QUERY</td>\n",
       "      <td>scotthamilton</td>\n",
       "      <td>is upset that he can't update his Facebook by ...</td>\n",
       "    </tr>\n",
       "    <tr>\n",
       "      <th>2</th>\n",
       "      <td>0</td>\n",
       "      <td>1467810917</td>\n",
       "      <td>Mon Apr 06 22:19:53 PDT 2009</td>\n",
       "      <td>NO_QUERY</td>\n",
       "      <td>mattycus</td>\n",
       "      <td>@Kenichan I dived many times for the ball. Man...</td>\n",
       "    </tr>\n",
       "    <tr>\n",
       "      <th>3</th>\n",
       "      <td>0</td>\n",
       "      <td>1467811184</td>\n",
       "      <td>Mon Apr 06 22:19:57 PDT 2009</td>\n",
       "      <td>NO_QUERY</td>\n",
       "      <td>ElleCTF</td>\n",
       "      <td>my whole body feels itchy and like its on fire</td>\n",
       "    </tr>\n",
       "    <tr>\n",
       "      <th>4</th>\n",
       "      <td>0</td>\n",
       "      <td>1467811193</td>\n",
       "      <td>Mon Apr 06 22:19:57 PDT 2009</td>\n",
       "      <td>NO_QUERY</td>\n",
       "      <td>Karoli</td>\n",
       "      <td>@nationwideclass no, it's not behaving at all....</td>\n",
       "    </tr>\n",
       "  </tbody>\n",
       "</table>\n",
       "</div>"
      ],
      "text/plain": [
       "   target          id                          date      flag  \\\n",
       "0       0  1467810369  Mon Apr 06 22:19:45 PDT 2009  NO_QUERY   \n",
       "1       0  1467810672  Mon Apr 06 22:19:49 PDT 2009  NO_QUERY   \n",
       "2       0  1467810917  Mon Apr 06 22:19:53 PDT 2009  NO_QUERY   \n",
       "3       0  1467811184  Mon Apr 06 22:19:57 PDT 2009  NO_QUERY   \n",
       "4       0  1467811193  Mon Apr 06 22:19:57 PDT 2009  NO_QUERY   \n",
       "\n",
       "              user                                               text  \n",
       "0  _TheSpecialOne_  @switchfoot http://twitpic.com/2y1zl - Awww, t...  \n",
       "1    scotthamilton  is upset that he can't update his Facebook by ...  \n",
       "2         mattycus  @Kenichan I dived many times for the ball. Man...  \n",
       "3          ElleCTF    my whole body feels itchy and like its on fire   \n",
       "4           Karoli  @nationwideclass no, it's not behaving at all....  "
      ]
     },
     "execution_count": 2,
     "metadata": {},
     "output_type": "execute_result"
    }
   ],
   "source": [
    "import pandas as pd\n",
    "import zipfile\n",
    "\n",
    "colnames = ['target','id','date','flag','user','text']\n",
    "zf = zipfile.ZipFile('C:\\\\Users\\\\beatr\\\\Documents\\\\Beatriz\\\\Ironhack\\\\lab-nlp\\\\archive.zip') \n",
    "tweets = pd.read_csv(zf.open('training.1600000.processed.noemoticon.csv'),names=colnames, header=None, encoding='ISO-8859-1')\n",
    "tweets.head()"
   ]
  },
  {
   "cell_type": "code",
   "execution_count": 3,
   "metadata": {},
   "outputs": [
    {
     "name": "stdout",
     "output_type": "stream",
     "text": [
      "1600000\n"
     ]
    }
   ],
   "source": [
    "print(len(tweets))"
   ]
  },
  {
   "cell_type": "code",
   "execution_count": 4,
   "metadata": {},
   "outputs": [
    {
     "name": "stdout",
     "output_type": "stream",
     "text": [
      "20000\n"
     ]
    }
   ],
   "source": [
    "tweets_sample = tweets.sample(20000)\n",
    "print(len(tweets_sample))"
   ]
  },
  {
   "cell_type": "code",
   "execution_count": 5,
   "metadata": {},
   "outputs": [
    {
     "data": {
      "text/html": [
       "<div>\n",
       "<style scoped>\n",
       "    .dataframe tbody tr th:only-of-type {\n",
       "        vertical-align: middle;\n",
       "    }\n",
       "\n",
       "    .dataframe tbody tr th {\n",
       "        vertical-align: top;\n",
       "    }\n",
       "\n",
       "    .dataframe thead th {\n",
       "        text-align: right;\n",
       "    }\n",
       "</style>\n",
       "<table border=\"1\" class=\"dataframe\">\n",
       "  <thead>\n",
       "    <tr style=\"text-align: right;\">\n",
       "      <th></th>\n",
       "      <th>target</th>\n",
       "      <th>id</th>\n",
       "      <th>date</th>\n",
       "      <th>flag</th>\n",
       "      <th>user</th>\n",
       "      <th>text</th>\n",
       "    </tr>\n",
       "  </thead>\n",
       "  <tbody>\n",
       "    <tr>\n",
       "      <th>87727</th>\n",
       "      <td>0</td>\n",
       "      <td>1754576010</td>\n",
       "      <td>Sun May 10 06:43:59 PDT 2009</td>\n",
       "      <td>NO_QUERY</td>\n",
       "      <td>lovelifeforever</td>\n",
       "      <td>Wow. I just blocked everyone who was following...</td>\n",
       "    </tr>\n",
       "    <tr>\n",
       "      <th>502084</th>\n",
       "      <td>0</td>\n",
       "      <td>2187406375</td>\n",
       "      <td>Mon Jun 15 20:14:09 PDT 2009</td>\n",
       "      <td>NO_QUERY</td>\n",
       "      <td>hey2020</td>\n",
       "      <td>@DannieLovesYou is a Monster and people run aw...</td>\n",
       "    </tr>\n",
       "    <tr>\n",
       "      <th>1447227</th>\n",
       "      <td>4</td>\n",
       "      <td>2062595129</td>\n",
       "      <td>Sat Jun 06 23:41:52 PDT 2009</td>\n",
       "      <td>NO_QUERY</td>\n",
       "      <td>biancavasquez</td>\n",
       "      <td>is home, playing the wii with SELA and eating ...</td>\n",
       "    </tr>\n",
       "    <tr>\n",
       "      <th>1073932</th>\n",
       "      <td>4</td>\n",
       "      <td>1966877398</td>\n",
       "      <td>Fri May 29 18:33:48 PDT 2009</td>\n",
       "      <td>NO_QUERY</td>\n",
       "      <td>distantFee</td>\n",
       "      <td>#myweakness Spectacular's infamous twirl</td>\n",
       "    </tr>\n",
       "    <tr>\n",
       "      <th>1139077</th>\n",
       "      <td>4</td>\n",
       "      <td>1976897498</td>\n",
       "      <td>Sat May 30 19:28:48 PDT 2009</td>\n",
       "      <td>NO_QUERY</td>\n",
       "      <td>2_S73P_T0M</td>\n",
       "      <td>Found a new youtube channel  subscribe to it @...</td>\n",
       "    </tr>\n",
       "  </tbody>\n",
       "</table>\n",
       "</div>"
      ],
      "text/plain": [
       "         target          id                          date      flag  \\\n",
       "87727         0  1754576010  Sun May 10 06:43:59 PDT 2009  NO_QUERY   \n",
       "502084        0  2187406375  Mon Jun 15 20:14:09 PDT 2009  NO_QUERY   \n",
       "1447227       4  2062595129  Sat Jun 06 23:41:52 PDT 2009  NO_QUERY   \n",
       "1073932       4  1966877398  Fri May 29 18:33:48 PDT 2009  NO_QUERY   \n",
       "1139077       4  1976897498  Sat May 30 19:28:48 PDT 2009  NO_QUERY   \n",
       "\n",
       "                    user                                               text  \n",
       "87727    lovelifeforever  Wow. I just blocked everyone who was following...  \n",
       "502084           hey2020  @DannieLovesYou is a Monster and people run aw...  \n",
       "1447227    biancavasquez  is home, playing the wii with SELA and eating ...  \n",
       "1073932       distantFee          #myweakness Spectacular's infamous twirl   \n",
       "1139077       2_S73P_T0M  Found a new youtube channel  subscribe to it @...  "
      ]
     },
     "execution_count": 5,
     "metadata": {},
     "output_type": "execute_result"
    }
   ],
   "source": [
    "tweets_sample.head()"
   ]
  },
  {
   "cell_type": "markdown",
   "metadata": {},
   "source": [
    "### Prepare Textual Data for Sentiment Analysis\n",
    "\n",
    "Now, apply the functions you have written in Challenge 1 to your whole data set. These functions include:\n",
    "\n",
    "* `clean_up()`\n",
    "\n",
    "* `tokenize()`\n",
    "\n",
    "* `stem_and_lemmatize()`\n",
    "\n",
    "* `remove_stopwords()`\n",
    "\n",
    "Create a new column called `text_processed` in the dataframe to contain the processed data. At the end, your `text_processed` column should contain lists of word tokens that are cleaned up. Your data should look like below:\n",
    "\n",
    "![Processed Data](data-cleaning-results.png)"
   ]
  },
  {
   "cell_type": "code",
   "execution_count": 6,
   "metadata": {},
   "outputs": [],
   "source": [
    "# Add the functions created in the challenge 1:"
   ]
  },
  {
   "cell_type": "code",
   "execution_count": 7,
   "metadata": {},
   "outputs": [],
   "source": [
    "import re\n",
    "\n",
    "def clean_up(s):\n",
    "    \"\"\"\n",
    "    Cleans up numbers, URLs, and special characters from a string.\n",
    "\n",
    "    Args:\n",
    "        s: The string to be cleaned up.\n",
    "\n",
    "    Returns:\n",
    "        A string that has been cleaned up.\n",
    "    \"\"\"\n",
    "    \n",
    "    final = s.lower()\n",
    "    #print(final)\n",
    "    \n",
    "    final = re.sub(\"http:\\S+\", \" \", final)\n",
    "    #print(final)\n",
    "    \n",
    "    final = re.findall(\"[a-z]+\", final)\n",
    "    #print(final)\n",
    "    \n",
    "    return ' '.join(final)"
   ]
  },
  {
   "cell_type": "code",
   "execution_count": 8,
   "metadata": {},
   "outputs": [
    {
     "name": "stderr",
     "output_type": "stream",
     "text": [
      "[nltk_data] Downloading package punkt to\n",
      "[nltk_data]     C:\\Users\\beatr\\AppData\\Roaming\\nltk_data...\n",
      "[nltk_data]   Package punkt is already up-to-date!\n"
     ]
    }
   ],
   "source": [
    "import nltk\n",
    "nltk.download('punkt')\n",
    "\n",
    "def tokenize(s):\n",
    "    \"\"\"\n",
    "    Tokenize a string.\n",
    "\n",
    "    Args:\n",
    "        s: String to be tokenized.\n",
    "\n",
    "    Returns:\n",
    "        A list of words as the result of tokenization.\n",
    "    \"\"\"\n",
    "    \n",
    "    return nltk.word_tokenize(s)"
   ]
  },
  {
   "cell_type": "code",
   "execution_count": 9,
   "metadata": {},
   "outputs": [
    {
     "name": "stderr",
     "output_type": "stream",
     "text": [
      "[nltk_data] Downloading package wordnet to\n",
      "[nltk_data]     C:\\Users\\beatr\\AppData\\Roaming\\nltk_data...\n",
      "[nltk_data]   Package wordnet is already up-to-date!\n"
     ]
    }
   ],
   "source": [
    "from nltk.stem import PorterStemmer\n",
    "\n",
    "nltk.download('wordnet') # wordnet is the most well known lemmatizer for english\n",
    "from nltk.stem import WordNetLemmatizer \n",
    "from nltk.corpus import wordnet\n",
    "\n",
    "def stem_and_lemmatize(l):\n",
    "    \"\"\"\n",
    "    Perform stemming and lemmatization on a list of words.\n",
    "\n",
    "    Args:\n",
    "        l: A list of strings.\n",
    "\n",
    "    Returns:\n",
    "        A list of strings after being stemmed and lemmatized.\n",
    "    \"\"\"\n",
    "    \n",
    "    ps = PorterStemmer()\n",
    "    stemmed = [ps.stem(w) for w in l]\n",
    "    \n",
    "    lemmatizer = WordNetLemmatizer() \n",
    "    lemmatized = [lemmatizer.lemmatize(word) for word in stemmed]\n",
    "    \n",
    "    return lemmatized"
   ]
  },
  {
   "cell_type": "code",
   "execution_count": 10,
   "metadata": {},
   "outputs": [
    {
     "name": "stderr",
     "output_type": "stream",
     "text": [
      "[nltk_data] Downloading package stopwords to\n",
      "[nltk_data]     C:\\Users\\beatr\\AppData\\Roaming\\nltk_data...\n",
      "[nltk_data]   Package stopwords is already up-to-date!\n"
     ]
    }
   ],
   "source": [
    "from nltk.corpus import stopwords\n",
    "nltk.download('stopwords')\n",
    "\n",
    "def remove_stopwords(l):\n",
    "    \"\"\"\n",
    "    Remove English stopwords from a list of strings.\n",
    "\n",
    "    Args:\n",
    "        l: A list of strings.\n",
    "\n",
    "    Returns:\n",
    "        A list of strings after stop words are removed.\n",
    "    \"\"\"\n",
    "    removing = [w for w in l if not w in stopwords.words(\"english\")]\n",
    "    return removing"
   ]
  },
  {
   "cell_type": "code",
   "execution_count": 11,
   "metadata": {},
   "outputs": [],
   "source": [
    "# Apply the functions:"
   ]
  },
  {
   "cell_type": "code",
   "execution_count": 12,
   "metadata": {},
   "outputs": [
    {
     "data": {
      "text/html": [
       "<div>\n",
       "<style scoped>\n",
       "    .dataframe tbody tr th:only-of-type {\n",
       "        vertical-align: middle;\n",
       "    }\n",
       "\n",
       "    .dataframe tbody tr th {\n",
       "        vertical-align: top;\n",
       "    }\n",
       "\n",
       "    .dataframe thead th {\n",
       "        text-align: right;\n",
       "    }\n",
       "</style>\n",
       "<table border=\"1\" class=\"dataframe\">\n",
       "  <thead>\n",
       "    <tr style=\"text-align: right;\">\n",
       "      <th></th>\n",
       "      <th>target</th>\n",
       "      <th>id</th>\n",
       "      <th>date</th>\n",
       "      <th>flag</th>\n",
       "      <th>user</th>\n",
       "      <th>text</th>\n",
       "      <th>text_processed</th>\n",
       "    </tr>\n",
       "  </thead>\n",
       "  <tbody>\n",
       "    <tr>\n",
       "      <th>87727</th>\n",
       "      <td>0</td>\n",
       "      <td>1754576010</td>\n",
       "      <td>Sun May 10 06:43:59 PDT 2009</td>\n",
       "      <td>NO_QUERY</td>\n",
       "      <td>lovelifeforever</td>\n",
       "      <td>Wow. I just blocked everyone who was following...</td>\n",
       "      <td>wow i just blocked everyone who was following ...</td>\n",
       "    </tr>\n",
       "    <tr>\n",
       "      <th>502084</th>\n",
       "      <td>0</td>\n",
       "      <td>2187406375</td>\n",
       "      <td>Mon Jun 15 20:14:09 PDT 2009</td>\n",
       "      <td>NO_QUERY</td>\n",
       "      <td>hey2020</td>\n",
       "      <td>@DannieLovesYou is a Monster and people run aw...</td>\n",
       "      <td>dannielovesyou is a monster and people run awa...</td>\n",
       "    </tr>\n",
       "    <tr>\n",
       "      <th>1447227</th>\n",
       "      <td>4</td>\n",
       "      <td>2062595129</td>\n",
       "      <td>Sat Jun 06 23:41:52 PDT 2009</td>\n",
       "      <td>NO_QUERY</td>\n",
       "      <td>biancavasquez</td>\n",
       "      <td>is home, playing the wii with SELA and eating ...</td>\n",
       "      <td>is home playing the wii with sela and eating b...</td>\n",
       "    </tr>\n",
       "    <tr>\n",
       "      <th>1073932</th>\n",
       "      <td>4</td>\n",
       "      <td>1966877398</td>\n",
       "      <td>Fri May 29 18:33:48 PDT 2009</td>\n",
       "      <td>NO_QUERY</td>\n",
       "      <td>distantFee</td>\n",
       "      <td>#myweakness Spectacular's infamous twirl</td>\n",
       "      <td>myweakness spectacular s infamous twirl</td>\n",
       "    </tr>\n",
       "    <tr>\n",
       "      <th>1139077</th>\n",
       "      <td>4</td>\n",
       "      <td>1976897498</td>\n",
       "      <td>Sat May 30 19:28:48 PDT 2009</td>\n",
       "      <td>NO_QUERY</td>\n",
       "      <td>2_S73P_T0M</td>\n",
       "      <td>Found a new youtube channel  subscribe to it @...</td>\n",
       "      <td>found a new youtube channel subscribe to it</td>\n",
       "    </tr>\n",
       "  </tbody>\n",
       "</table>\n",
       "</div>"
      ],
      "text/plain": [
       "         target          id                          date      flag  \\\n",
       "87727         0  1754576010  Sun May 10 06:43:59 PDT 2009  NO_QUERY   \n",
       "502084        0  2187406375  Mon Jun 15 20:14:09 PDT 2009  NO_QUERY   \n",
       "1447227       4  2062595129  Sat Jun 06 23:41:52 PDT 2009  NO_QUERY   \n",
       "1073932       4  1966877398  Fri May 29 18:33:48 PDT 2009  NO_QUERY   \n",
       "1139077       4  1976897498  Sat May 30 19:28:48 PDT 2009  NO_QUERY   \n",
       "\n",
       "                    user                                               text  \\\n",
       "87727    lovelifeforever  Wow. I just blocked everyone who was following...   \n",
       "502084           hey2020  @DannieLovesYou is a Monster and people run aw...   \n",
       "1447227    biancavasquez  is home, playing the wii with SELA and eating ...   \n",
       "1073932       distantFee          #myweakness Spectacular's infamous twirl    \n",
       "1139077       2_S73P_T0M  Found a new youtube channel  subscribe to it @...   \n",
       "\n",
       "                                            text_processed  \n",
       "87727    wow i just blocked everyone who was following ...  \n",
       "502084   dannielovesyou is a monster and people run awa...  \n",
       "1447227  is home playing the wii with sela and eating b...  \n",
       "1073932            myweakness spectacular s infamous twirl  \n",
       "1139077        found a new youtube channel subscribe to it  "
      ]
     },
     "execution_count": 12,
     "metadata": {},
     "output_type": "execute_result"
    }
   ],
   "source": [
    "tweets_sample[\"text_processed\"] = tweets_sample[\"text\"].apply(clean_up)\n",
    "tweets_sample.head()"
   ]
  },
  {
   "cell_type": "code",
   "execution_count": 13,
   "metadata": {},
   "outputs": [
    {
     "data": {
      "text/html": [
       "<div>\n",
       "<style scoped>\n",
       "    .dataframe tbody tr th:only-of-type {\n",
       "        vertical-align: middle;\n",
       "    }\n",
       "\n",
       "    .dataframe tbody tr th {\n",
       "        vertical-align: top;\n",
       "    }\n",
       "\n",
       "    .dataframe thead th {\n",
       "        text-align: right;\n",
       "    }\n",
       "</style>\n",
       "<table border=\"1\" class=\"dataframe\">\n",
       "  <thead>\n",
       "    <tr style=\"text-align: right;\">\n",
       "      <th></th>\n",
       "      <th>target</th>\n",
       "      <th>id</th>\n",
       "      <th>date</th>\n",
       "      <th>flag</th>\n",
       "      <th>user</th>\n",
       "      <th>text</th>\n",
       "      <th>text_processed</th>\n",
       "    </tr>\n",
       "  </thead>\n",
       "  <tbody>\n",
       "    <tr>\n",
       "      <th>87727</th>\n",
       "      <td>0</td>\n",
       "      <td>1754576010</td>\n",
       "      <td>Sun May 10 06:43:59 PDT 2009</td>\n",
       "      <td>NO_QUERY</td>\n",
       "      <td>lovelifeforever</td>\n",
       "      <td>Wow. I just blocked everyone who was following...</td>\n",
       "      <td>[wow, i, just, blocked, everyone, who, was, fo...</td>\n",
       "    </tr>\n",
       "    <tr>\n",
       "      <th>502084</th>\n",
       "      <td>0</td>\n",
       "      <td>2187406375</td>\n",
       "      <td>Mon Jun 15 20:14:09 PDT 2009</td>\n",
       "      <td>NO_QUERY</td>\n",
       "      <td>hey2020</td>\n",
       "      <td>@DannieLovesYou is a Monster and people run aw...</td>\n",
       "      <td>[dannielovesyou, is, a, monster, and, people, ...</td>\n",
       "    </tr>\n",
       "    <tr>\n",
       "      <th>1447227</th>\n",
       "      <td>4</td>\n",
       "      <td>2062595129</td>\n",
       "      <td>Sat Jun 06 23:41:52 PDT 2009</td>\n",
       "      <td>NO_QUERY</td>\n",
       "      <td>biancavasquez</td>\n",
       "      <td>is home, playing the wii with SELA and eating ...</td>\n",
       "      <td>[is, home, playing, the, wii, with, sela, and,...</td>\n",
       "    </tr>\n",
       "    <tr>\n",
       "      <th>1073932</th>\n",
       "      <td>4</td>\n",
       "      <td>1966877398</td>\n",
       "      <td>Fri May 29 18:33:48 PDT 2009</td>\n",
       "      <td>NO_QUERY</td>\n",
       "      <td>distantFee</td>\n",
       "      <td>#myweakness Spectacular's infamous twirl</td>\n",
       "      <td>[myweakness, spectacular, s, infamous, twirl]</td>\n",
       "    </tr>\n",
       "    <tr>\n",
       "      <th>1139077</th>\n",
       "      <td>4</td>\n",
       "      <td>1976897498</td>\n",
       "      <td>Sat May 30 19:28:48 PDT 2009</td>\n",
       "      <td>NO_QUERY</td>\n",
       "      <td>2_S73P_T0M</td>\n",
       "      <td>Found a new youtube channel  subscribe to it @...</td>\n",
       "      <td>[found, a, new, youtube, channel, subscribe, t...</td>\n",
       "    </tr>\n",
       "  </tbody>\n",
       "</table>\n",
       "</div>"
      ],
      "text/plain": [
       "         target          id                          date      flag  \\\n",
       "87727         0  1754576010  Sun May 10 06:43:59 PDT 2009  NO_QUERY   \n",
       "502084        0  2187406375  Mon Jun 15 20:14:09 PDT 2009  NO_QUERY   \n",
       "1447227       4  2062595129  Sat Jun 06 23:41:52 PDT 2009  NO_QUERY   \n",
       "1073932       4  1966877398  Fri May 29 18:33:48 PDT 2009  NO_QUERY   \n",
       "1139077       4  1976897498  Sat May 30 19:28:48 PDT 2009  NO_QUERY   \n",
       "\n",
       "                    user                                               text  \\\n",
       "87727    lovelifeforever  Wow. I just blocked everyone who was following...   \n",
       "502084           hey2020  @DannieLovesYou is a Monster and people run aw...   \n",
       "1447227    biancavasquez  is home, playing the wii with SELA and eating ...   \n",
       "1073932       distantFee          #myweakness Spectacular's infamous twirl    \n",
       "1139077       2_S73P_T0M  Found a new youtube channel  subscribe to it @...   \n",
       "\n",
       "                                            text_processed  \n",
       "87727    [wow, i, just, blocked, everyone, who, was, fo...  \n",
       "502084   [dannielovesyou, is, a, monster, and, people, ...  \n",
       "1447227  [is, home, playing, the, wii, with, sela, and,...  \n",
       "1073932      [myweakness, spectacular, s, infamous, twirl]  \n",
       "1139077  [found, a, new, youtube, channel, subscribe, t...  "
      ]
     },
     "execution_count": 13,
     "metadata": {},
     "output_type": "execute_result"
    }
   ],
   "source": [
    "tweets_sample['text_processed'] = tweets_sample['text_processed'].apply(tokenize)\n",
    "tweets_sample.head()"
   ]
  },
  {
   "cell_type": "code",
   "execution_count": 14,
   "metadata": {},
   "outputs": [
    {
     "data": {
      "text/html": [
       "<div>\n",
       "<style scoped>\n",
       "    .dataframe tbody tr th:only-of-type {\n",
       "        vertical-align: middle;\n",
       "    }\n",
       "\n",
       "    .dataframe tbody tr th {\n",
       "        vertical-align: top;\n",
       "    }\n",
       "\n",
       "    .dataframe thead th {\n",
       "        text-align: right;\n",
       "    }\n",
       "</style>\n",
       "<table border=\"1\" class=\"dataframe\">\n",
       "  <thead>\n",
       "    <tr style=\"text-align: right;\">\n",
       "      <th></th>\n",
       "      <th>target</th>\n",
       "      <th>id</th>\n",
       "      <th>date</th>\n",
       "      <th>flag</th>\n",
       "      <th>user</th>\n",
       "      <th>text</th>\n",
       "      <th>text_processed</th>\n",
       "    </tr>\n",
       "  </thead>\n",
       "  <tbody>\n",
       "    <tr>\n",
       "      <th>87727</th>\n",
       "      <td>0</td>\n",
       "      <td>1754576010</td>\n",
       "      <td>Sun May 10 06:43:59 PDT 2009</td>\n",
       "      <td>NO_QUERY</td>\n",
       "      <td>lovelifeforever</td>\n",
       "      <td>Wow. I just blocked everyone who was following...</td>\n",
       "      <td>[wow, i, just, block, everyon, who, wa, follow...</td>\n",
       "    </tr>\n",
       "    <tr>\n",
       "      <th>502084</th>\n",
       "      <td>0</td>\n",
       "      <td>2187406375</td>\n",
       "      <td>Mon Jun 15 20:14:09 PDT 2009</td>\n",
       "      <td>NO_QUERY</td>\n",
       "      <td>hey2020</td>\n",
       "      <td>@DannieLovesYou is a Monster and people run aw...</td>\n",
       "      <td>[dannielovesy, is, a, monster, and, peopl, run...</td>\n",
       "    </tr>\n",
       "    <tr>\n",
       "      <th>1447227</th>\n",
       "      <td>4</td>\n",
       "      <td>2062595129</td>\n",
       "      <td>Sat Jun 06 23:41:52 PDT 2009</td>\n",
       "      <td>NO_QUERY</td>\n",
       "      <td>biancavasquez</td>\n",
       "      <td>is home, playing the wii with SELA and eating ...</td>\n",
       "      <td>[is, home, play, the, wii, with, sela, and, ea...</td>\n",
       "    </tr>\n",
       "    <tr>\n",
       "      <th>1073932</th>\n",
       "      <td>4</td>\n",
       "      <td>1966877398</td>\n",
       "      <td>Fri May 29 18:33:48 PDT 2009</td>\n",
       "      <td>NO_QUERY</td>\n",
       "      <td>distantFee</td>\n",
       "      <td>#myweakness Spectacular's infamous twirl</td>\n",
       "      <td>[myweak, spectacular, s, infam, twirl]</td>\n",
       "    </tr>\n",
       "    <tr>\n",
       "      <th>1139077</th>\n",
       "      <td>4</td>\n",
       "      <td>1976897498</td>\n",
       "      <td>Sat May 30 19:28:48 PDT 2009</td>\n",
       "      <td>NO_QUERY</td>\n",
       "      <td>2_S73P_T0M</td>\n",
       "      <td>Found a new youtube channel  subscribe to it @...</td>\n",
       "      <td>[found, a, new, youtub, channel, subscrib, to,...</td>\n",
       "    </tr>\n",
       "  </tbody>\n",
       "</table>\n",
       "</div>"
      ],
      "text/plain": [
       "         target          id                          date      flag  \\\n",
       "87727         0  1754576010  Sun May 10 06:43:59 PDT 2009  NO_QUERY   \n",
       "502084        0  2187406375  Mon Jun 15 20:14:09 PDT 2009  NO_QUERY   \n",
       "1447227       4  2062595129  Sat Jun 06 23:41:52 PDT 2009  NO_QUERY   \n",
       "1073932       4  1966877398  Fri May 29 18:33:48 PDT 2009  NO_QUERY   \n",
       "1139077       4  1976897498  Sat May 30 19:28:48 PDT 2009  NO_QUERY   \n",
       "\n",
       "                    user                                               text  \\\n",
       "87727    lovelifeforever  Wow. I just blocked everyone who was following...   \n",
       "502084           hey2020  @DannieLovesYou is a Monster and people run aw...   \n",
       "1447227    biancavasquez  is home, playing the wii with SELA and eating ...   \n",
       "1073932       distantFee          #myweakness Spectacular's infamous twirl    \n",
       "1139077       2_S73P_T0M  Found a new youtube channel  subscribe to it @...   \n",
       "\n",
       "                                            text_processed  \n",
       "87727    [wow, i, just, block, everyon, who, wa, follow...  \n",
       "502084   [dannielovesy, is, a, monster, and, peopl, run...  \n",
       "1447227  [is, home, play, the, wii, with, sela, and, ea...  \n",
       "1073932             [myweak, spectacular, s, infam, twirl]  \n",
       "1139077  [found, a, new, youtub, channel, subscrib, to,...  "
      ]
     },
     "execution_count": 14,
     "metadata": {},
     "output_type": "execute_result"
    }
   ],
   "source": [
    "tweets_sample['text_processed'] = tweets_sample['text_processed'].apply(stem_and_lemmatize)\n",
    "tweets_sample.head()"
   ]
  },
  {
   "cell_type": "code",
   "execution_count": 15,
   "metadata": {},
   "outputs": [
    {
     "data": {
      "text/html": [
       "<div>\n",
       "<style scoped>\n",
       "    .dataframe tbody tr th:only-of-type {\n",
       "        vertical-align: middle;\n",
       "    }\n",
       "\n",
       "    .dataframe tbody tr th {\n",
       "        vertical-align: top;\n",
       "    }\n",
       "\n",
       "    .dataframe thead th {\n",
       "        text-align: right;\n",
       "    }\n",
       "</style>\n",
       "<table border=\"1\" class=\"dataframe\">\n",
       "  <thead>\n",
       "    <tr style=\"text-align: right;\">\n",
       "      <th></th>\n",
       "      <th>target</th>\n",
       "      <th>id</th>\n",
       "      <th>date</th>\n",
       "      <th>flag</th>\n",
       "      <th>user</th>\n",
       "      <th>text</th>\n",
       "      <th>text_processed</th>\n",
       "    </tr>\n",
       "  </thead>\n",
       "  <tbody>\n",
       "    <tr>\n",
       "      <th>87727</th>\n",
       "      <td>0</td>\n",
       "      <td>1754576010</td>\n",
       "      <td>Sun May 10 06:43:59 PDT 2009</td>\n",
       "      <td>NO_QUERY</td>\n",
       "      <td>lovelifeforever</td>\n",
       "      <td>Wow. I just blocked everyone who was following...</td>\n",
       "      <td>[wow, block, everyon, wa, follow, account, fro...</td>\n",
       "    </tr>\n",
       "    <tr>\n",
       "      <th>502084</th>\n",
       "      <td>0</td>\n",
       "      <td>2187406375</td>\n",
       "      <td>Mon Jun 15 20:14:09 PDT 2009</td>\n",
       "      <td>NO_QUERY</td>\n",
       "      <td>hey2020</td>\n",
       "      <td>@DannieLovesYou is a Monster and people run aw...</td>\n",
       "      <td>[dannielovesy, monster, peopl, run, away, wors...</td>\n",
       "    </tr>\n",
       "    <tr>\n",
       "      <th>1447227</th>\n",
       "      <td>4</td>\n",
       "      <td>2062595129</td>\n",
       "      <td>Sat Jun 06 23:41:52 PDT 2009</td>\n",
       "      <td>NO_QUERY</td>\n",
       "      <td>biancavasquez</td>\n",
       "      <td>is home, playing the wii with SELA and eating ...</td>\n",
       "      <td>[home, play, wii, sela, eat, bob, morn]</td>\n",
       "    </tr>\n",
       "    <tr>\n",
       "      <th>1073932</th>\n",
       "      <td>4</td>\n",
       "      <td>1966877398</td>\n",
       "      <td>Fri May 29 18:33:48 PDT 2009</td>\n",
       "      <td>NO_QUERY</td>\n",
       "      <td>distantFee</td>\n",
       "      <td>#myweakness Spectacular's infamous twirl</td>\n",
       "      <td>[myweak, spectacular, infam, twirl]</td>\n",
       "    </tr>\n",
       "    <tr>\n",
       "      <th>1139077</th>\n",
       "      <td>4</td>\n",
       "      <td>1976897498</td>\n",
       "      <td>Sat May 30 19:28:48 PDT 2009</td>\n",
       "      <td>NO_QUERY</td>\n",
       "      <td>2_S73P_T0M</td>\n",
       "      <td>Found a new youtube channel  subscribe to it @...</td>\n",
       "      <td>[found, new, youtub, channel, subscrib]</td>\n",
       "    </tr>\n",
       "  </tbody>\n",
       "</table>\n",
       "</div>"
      ],
      "text/plain": [
       "         target          id                          date      flag  \\\n",
       "87727         0  1754576010  Sun May 10 06:43:59 PDT 2009  NO_QUERY   \n",
       "502084        0  2187406375  Mon Jun 15 20:14:09 PDT 2009  NO_QUERY   \n",
       "1447227       4  2062595129  Sat Jun 06 23:41:52 PDT 2009  NO_QUERY   \n",
       "1073932       4  1966877398  Fri May 29 18:33:48 PDT 2009  NO_QUERY   \n",
       "1139077       4  1976897498  Sat May 30 19:28:48 PDT 2009  NO_QUERY   \n",
       "\n",
       "                    user                                               text  \\\n",
       "87727    lovelifeforever  Wow. I just blocked everyone who was following...   \n",
       "502084           hey2020  @DannieLovesYou is a Monster and people run aw...   \n",
       "1447227    biancavasquez  is home, playing the wii with SELA and eating ...   \n",
       "1073932       distantFee          #myweakness Spectacular's infamous twirl    \n",
       "1139077       2_S73P_T0M  Found a new youtube channel  subscribe to it @...   \n",
       "\n",
       "                                            text_processed  \n",
       "87727    [wow, block, everyon, wa, follow, account, fro...  \n",
       "502084   [dannielovesy, monster, peopl, run, away, wors...  \n",
       "1447227            [home, play, wii, sela, eat, bob, morn]  \n",
       "1073932                [myweak, spectacular, infam, twirl]  \n",
       "1139077            [found, new, youtub, channel, subscrib]  "
      ]
     },
     "execution_count": 15,
     "metadata": {},
     "output_type": "execute_result"
    }
   ],
   "source": [
    "tweets_sample['text_processed'] = tweets_sample['text_processed'].apply(remove_stopwords)\n",
    "tweets_sample.head()"
   ]
  },
  {
   "cell_type": "markdown",
   "metadata": {},
   "source": [
    "### Creating Bag of Words\n",
    "\n",
    "The purpose of this step is to create a [bag of words](https://en.wikipedia.org/wiki/Bag-of-words_model) from the processed data. The bag of words contains all the unique words in your whole text body (a.k.a. *corpus*) with the number of occurrence of each word. It will allow you to understand which words are the most important features across the whole corpus.\n",
    "\n",
    "Also, you can imagine you will have a massive set of words. The less important words (i.e. those of very low number of occurrence) do not contribute much to the sentiment. Therefore, you only need to use the most important words to build your feature set in the next step. In our case, we will use the top 5,000 words with the highest frequency to build the features.\n",
    "\n",
    "In the cell below, combine all the words in `text_processed` and calculate the frequency distribution of all words. A convenient library to calculate the term frequency distribution is NLTK's `FreqDist` class ([documentation](https://www.nltk.org/api/nltk.html#module-nltk.probability)). Then select the top 5,000 words from the frequency distribution."
   ]
  },
  {
   "cell_type": "code",
   "execution_count": 23,
   "metadata": {},
   "outputs": [
    {
     "name": "stdout",
     "output_type": "stream",
     "text": [
      "<FreqDist with 23971 samples and 154949 outcomes>\n",
      "['wow', 'block', 'everyon', 'wa', 'follow', 'account', 'frozen', 'dannielovesy', 'monster', 'peopl', 'run', 'away', 'wors', 'come', 'back', 'ever', 'get', 'mileycyru', 'omg', 'dont', 'believ', 'oi', 'home', 'play', 'wii', 'sela', 'eat', 'bob', 'morn', 'myweak', 'spectacular', 'infam', 'twirl', 'found', 'new', 'youtub', 'channel', 'subscrib', 'juicywebdesign', 'tweet', 'sorri', 'hear', 'hunt', 'glad', 'see', 'line', 'simpson', 'ride', 'cute', 'foreign', 'boy', 'hate', 'rob', 'ha', 'go', 'bed', 'earli', 'noth', 'one', 'text', 'sniff', 'rowan', 'accent', 'lancashir', 'born', 'bred', 'although', 'seem', 'sound', 'like', 'ashley', 'corri', 'video', 'annekahansen', 'got', 'sleep', 'want', 'wotowiec', 'serious', 'everi', 'monday', 'er', 'effici', 'way', 'consum', 'think', 'gon', 'na', 'start', 'danc', 'workout', 'tomorrow', 'wooo', 'look', 'fun', 'headach', 'came', 'futiaexpo', 'nah', 'front', 'judg', 'bunch', 'scalli', 'lawyer', 'wig', 'cool', 'nowt', 'wrong', 'work', 'gabriellaopaz', 'enjoy', 'great', 'movi', 'remain', 'dub', 'spanish', 'becaus', 'real', 'nash', 'honorari', 'filipino', 'thank', 'daxvelando', 'dad', 'hous', 'uh', 'sooooo', 'bore', 'except', 'mgiraudoffici', 'afford', 'ticket', 'could', 'wait', 'til', 'show', 'guy', 'lol', 'read', 'kinda', 'sad', 'whi', 'alway', 'listen', 'quot', 'love', 'gavin', 'rossdal', 'wan', 'cri', 'till', 'today', 'littl', 'dunk', 'sick', 'may', 'say', 'prayer', 'better', 'plea', 'make', 'jump', 'karaok', 'caption', 'contest', 'merili', 'chang', 'u', 'difer', 'anyth', 'possibl', 'sky', 'limit', 'mqtub', 'oh', 'shit', 'yeah', 'mother', 'day', 'il', 'sort', 'night', 'spend', 'afternoon', 'frank', 'sinatra', 'watch', 'jack', 'lemmon', 'wine', 'amp', 'cigar', 'wish', 'thi', 'freecycl', 'taken', 'doodl', 'bear', 'girl', 'rebyski', 'bebe', 'miss', 'babi', 'bad', 'even', 'funni', 'experienc', 'lonliest', 'year', 'life', 'much', 'well', 'time', 'el', 'ashleyrwatt', 'sinc', 'woke', 'let', 'ani', 'soon', 'feel', 'realli', 'good', 'quit', 'craaaap', 'mean', 'callahan', 'awww', 'pic', 'sighh', 'feelin', 'ill', 'wana', 'crawl', 'n', 'knokk', 'rhondasp', 'use', 'www', 'tweeterfollow', 'com', 'onc', 'add', 'train', 'pay', 'vip', 'fight', 'im', 'pain', 'abconn', 'couch', 'roomi', 'freshli', 'brew', 'intelligentsia', 'coffe', 'hot', 'readi', 'help', 'week', 'happi', 'skadz', 'next', 'version', 'shop', 'didnt', 'find', 'hansonmus', 'know', 'final', 'deal', 'gt', 'jona', 'song', 'drunk', 'topless', 'pool', 'vega', 'rock', 'wph', 'lunch', 'former', 'co', 'worker', 'ye', 'still', 'friend', 'noah', 'ran', 'favorit', 'spinach', 'swiss', 'bagel', 'spinsvixenella', 'went', 'adopt', 'ladi', 'kelli', 'abod', 'tip', 'top', 'shape', 'last', 'step', 'phone', 'mayb', 'declin', 'personel', 'loan', 'ariannejhaz', 'cours', 'hi', 'also', 'shout', 'alreadi', 'beach', 'somewher', 'face', 'moochergirl', 'grew', 'countri', 'trend', 'cranki', 'lot', 'catch', 'tor', 'slow', 'onli', 'situat', 'user', 'free', 'servic', 'blame', 'em', 'wake', 'raini', 'sunday', 'worst', 'part', 'right', 'social', 'certain', 'first', 'bouvet', 'holiday', 'mind', 'tri', 'sheow', 'thought', 'workk', 'june', 'st', 'nkotb', 'summer', 'woo', 'hooo', 'sillysillyboy', 'fav', 'msp', 'tho', 'beetlefursuit', 'admit', 'worri', 'stuff', 'studi', 'exam', 'millsjo', 'l', 'actual', 'nina', 'share', 'xx', 'hehe', 'take', 'bath', 'two', 'without', 'parker', 'kolpat', 'problem', 'vgay', 'nerd', 'gn', 'mtv', 'award', 'revis', 'hope', 'rememb', 'begin', 'beauchamp', 'haveta', 'nan', 'hr', 'big', 'challeng', 'god', 'ear', 'bleed', 'pari', 'effort', 'reduc', 'spammer', 'non', 'tweeter', 'medium', 'expert', 'money', 'onlin', 'inadvert', 'unfollow', 'tummi', 'ach', 'ramen', 'spring', 'awak', 'music', 'awesom', 'sing', 'piano', 'post', 'richardgemmel', 'tissu', 'doubl', 'carri', 'case', 'netbook', 'need', 'hella', 'lookin', 'cl', 'half', 'check', 'gone', 'befor', 'cash', 'blahhhh', 'made', 'imag', 'gari', 'drive', 'nut', 'cant', 'crap', 'ergg', 'birthday', 'parti', 'xp', 'famili', 'tuftedpuffin', 'mr', 'dressup', 'grandfath', 'lt', 'tht', 'doesnt', 'talk', 'bout', 'marialkanelli', 'job', 'repli', 'fan', 'usmc', 'invit', 'firsttig', 'seriou', 'question', 'clear', 'rode', 'bike', 'alexi', 'yea', 'dat', 'renster', 'aw', 'welll', 'promotionnnn', 'might', 'mill', 'list', 'anastasia', 'least', 'wont', 'date', 'broke', 'markyehan', 'veri', 'haha', 'bill', 'viola', 'essay', 'word', 'return', 'rochest', 'brlittl', 'ugh', 'interfac', 'horribl', 'ad', 'anoth', 'option', 'event', 'late', 'usual', 'peep', 'eeeeeeeewwww', 'tast', 'mouth', 'hospit', 'almost', 'puke', 'binkitybonk', 'pretti', 'reason', 'keep', 'door', 'close', 'officialtila', 'darien', 'lake', 'park', 'fluxystar', 'pre', 'concert', 'drink', 'ya', 'crowd', 'hilari', 'old', 'sign', 'ouch', 'needl', 'hunger', 'sunshin', 'fantast', 'cut', 'grass', 'long', 'pride', 'trevor', 'project', 'booth', 'summertim', 'ball', 'woop', 'stadium', 'jschenck', 'terribl', 'skubasteve', 'hey', 'truck', 'redneck', 'gunrack', 'wipe', 'mah', 'bandana', 'littlepapoos', 'nice', 'etsi', 'mastersavag', 'saw', 'link', 'caffein', 'pill', 'court', 'termin', 'gun', 'explos', 'summertimebal', 'x', 'dead', 'britneyspear', 'total', 'amradelamin', 'unreli', 'brother', 'isnt', 'internet', 'gahh', 'move', 'offici', 'happiest', 'arduinocnn', 'name', 'search', 'hala', 'hello', 'frm', 'madrid', 'praniti', 'origin', 'stateoforigin', 'cloth', 'wardrob', 'upgrad', 'haaaaaaayyyyy', 'fuck', 'georgiabracey', 'gorgeou', 'background', 'imagin', 'billbeckett', 'turn', 'would', 'suck', 'yay', 'whole', 'hardli', 'boo', 'goe', 'father', 'joakimbergquist', 'photo', 'congratul', 'iankit', 'arey', 'bole', 'apni', 'hone', 'wali', 'bhabhi', 'laugh', 'lamo', 'trainer', 'jillian', 'michael', 'told', 'wed', 'dress', 'bare', 'fit', 'sigh', 'never', 'felt', 'sore', 'achi', 'shreksteronlin', 'mic', 'piss', 'hurt', 'tire', 'ume', 'onigiri', 'brent', 'aka', 'upload', 'publish', 'studio', 'visit', 'simpletownusa', 'health', 'care', 'julijul', 'appreci', 'dog', 'marg', 'pud', 'sister', 'yesterday', 'supper', 'nip', 'tuck', 'cancel', 'r', 'fish', 'tyler', 'dinner', 'allison', 'eff', 'leav', 'walk', 'around', 'stewi', 'tuba', 'sim', 'laptop', 'memith', 'food', 'twitterland', 'wonder', 'bring', 'breakfast', 'xo', 'rocknrollforeva', 'aawww', 'give', 'creep', 'shudder', 'gnr', 'casi', 'ngele', 'nana', 'anywher', 'profil', 'casagrand', 'hang', 'brazil', 'william', 'fitzsimmon', 'goodmorn', 'pasta', 'pesto', 'jami', 'oliv', 'hubbi', 'kid', 'fb', 'pnchamilton', 'hack', 'alli', 'ah', 'everyth', 'broken', 'scratch', 'meant', 'futur', 'wife', 'sophia', 'bush', 'burtan', 'utah', 'emmythecat', 'bye', 'emmi', 'pussycatisland', 'resist', 'firework', 'lindseythefirst', 'wifi', 'hotspot', 'forget', 'twitpic', 'forgiv', 'forward', 'regardless', 'past', 'closer', 'joeymcintyr', 'tea', 'tweetdeck', 'litter', 'msg', 'mimisaurusrex', 'left', 'dure', 'weekend', 'midtown', 'manhattan', 'indi', 'herald', 'squar', 'parasci', 'email', 'sent', 'michaelpalermo', 'rough', 'jame', 'cariadweez', 'boggl', 'connect', 'absolut', 'bu', 'school', 'live', 'far', 'church', 'attitud', 'foamo', 'f', 'wick', 'call', 'jerk', 'jessieeeeeh', 'hiyaaa', 'msn', 'aint', 'sstaver', 'lindsey', 'fire', 'celebr', 'univers', 'administr', 'bsu', 'dreamspark', 'dream', 'recept', 'leo', 'tv', 'awwwww', 'lito', 'scari', 'meghannian', 'hug', 'okay', 'sure', 'punk', 'edg', 'j', 'hardi', 'match', 'gave', 'colon', 'dynasti', 'min', 'man', 'superstar', 'laurensi', 'grandma', 'uncl', 'cousin', 'die', 'month', 'apart', 'pray', 'lenaba', 'hav', 'euro', 'brooklyn', 'wtf', 'ok', 'spoil', 'jemstarmus', 'lost', 'pizza', 'vanilla', 'shake', 'andi', 'capp', 'fri', 'cream', 'soda', 'peac', 'friday', 'set', 'mood', 'daddi', 'fanfic', 'thing', 'happen', 'english', 'languag', 'book', 'pick', 'german', 'son', 'basebal', 'game', 'rain', 'rescueanim', 'wash', 'forgot', 'babysit', 'tracytylermus', 'djbigappl', 'winter', 'uwila', 'eujean', 'sassysuen', 'mine', 'pull', 'walmart', 'aunt', 'fell', 'asleep', 'hour', 'later', 'drthomasho', 'pm', 'daughter', 'swim', 'lesson', 'carmel', 'h', 'scalp', 'burn', 'jeanni', 'mcc', 'starbuck', 'nola', 'miser', 'prison', 'prep', 'interview', 'domain', 'expir', 'downsiz', 'expens', 'durhamgirlgeek', 'asmithdesign', 'outnumb', 'mba', 'assign', 'lettuc', 'salad', 'exhaust', 'anymor', 'prettyeduc', 'playin', 'nuvo', 'kind', 'ungrat', 'morelandsr', 'welcom', 'tito', 'ice', 'yum', 'random', 'joyou', 'joyc', 'ania', 'hit', 'singapor', 'howarddbear', 'often', 'inbox', 'dedmondw', 'exact', 'statu', 'guess', 'yet', 'ive', 'cum', 'madaboutte', 'mornin', 'bird', 'rest', 'monkeylov', 'ta', 'beejiveim', 'updat', 'appl', 'argh', 'moneymakinmatt', 'shut', 'fool', 'dontlik', 'fact', 'abandon', 'margaretcho', 'dunno', 'strong', 'attach', 'religion', 'billmcintosh', 'agre', 'product', 'respons', 'applic', 'power', 'wickedmickey', 'done', 'glass', 'g', 'embarrass', 'ask', 'parent', 'economi', 'friendli', 'teen', 'mention', 'adult', 'pictur', 'paul', 'pip', 'manag', 'penketh', 'johnnytoffe', 'hmf', 'b', 'stop', 'bid', 'ridicul', 'ebay', 'crumb', 'rafael', 'nadal', 'withdraw', 'wimbledon', 'aload', 'ppl', 'gona', 'put', 'protect', 'meal', 'red', 'rooster', 'paid', 'toy', 'funkypaul', 'dear', 'studyin', 'lizzielyon', 'wotn', 'alright', 'megamillion', 'semperfihank', 'toastin', 'bro', 'hooah', 'oorah', 'meesshel', 'said', 'occasion', 'sushi', 'excit', 'news', 'ihatebanana', 'confus', 'realiz', 'dominicscott', 'earlier', 'roommat', 'place', 'saintrichi', 'okieanni', 'woodwork', 'iphon', 'geez', 'switch', 'mobil', 'carrier', 'kayoungch', 'shame', 'partim', 'due', 'lack', 'band', 'uk', 'meg', 'ninjadza', 'pet', 'group', 'belong', 'matttoophat', 'ernesto', 'perez', 'grand', 'perppermint', 'java', 'chip', 'rate', 'fat', 'lehighvalleypa', 'pleasur', 'beauti', 'logo', 'design', 'tutori', 'resourc', 'wel', 'patsytrav', 'britney', 'tonight', 'tell', 'tomoro', 'head', 'orlando', 'tweep', 'neanderpaul', 'noon', 'hangov', 'chillin', 'insid', 'obama', 'white', 'tmjp', 'retard', 'kuantan', 'short', 'break', 'rel', 'drama', 'mama', 'ashlyjbew', 'whenev', 'someon', 'tweepl', 'tween', 'abl', 'boyfriend', 'twitter', 'world', 'sweet', 'yippee', 'predict', 'french', 'open', 'exit', 'amyatq', 'saturday', 'desk', 'area', 'messi', 'promis', 'cubicl', 'mate', 'duranduran', 'gee', 'album', 'alphabetania', 'surpris', 'penni', 'doe', 'dj', 'ewww', 'hater', 'lover', 'gross', 'annigjen', 'sweeti', 'p', 'hike', 'darcsfalcon', 'somebodi', 'techi', 'jammyrabbin', 'jimmi', 'ador', 'person', 'wing', 'smile', 'aplusk', 'thunderstorm', 'end', 'rumbl', 'request', 'amanda', 'sarcast', 'complet', 'fail', 'signal', 'charact', 'cheap', 'solder', 'flow', 'jealou', 'vacat', 'hudgens', 'stun', 'colour', 'gawju', 'shoe', 'thisisguan', 'tommcfli', 'must', 'davidarchi', 'hahahha', 'amazingggg', 'staceeeeey', 'naww', 'instal', 'someth', 'ooop', 'tiff', 'ahaha', 'joe', 'awesomee', 'weird', 'hair', 'voic', 'bexiv', 'bandom', 'glambert', 'fandom', 'collid', 'theperfecladi', 'waaaaaaaaaaaaaaaaaaaahhhhhhhhhhhh', 'stay', 'tila', 'queen', 'blah', 'udon', 'ahhh', 'clay', 'best', 'player', 'soderl', 'laker', 'lakersn', 'control', 'board', 'foul', 'troubl', 'tempo', 'jeannieeee', 'chose', 'itzyaboyhw', 'hah', 'justin', 'timberlak', 'snl', 'caus', 'cuti', 'sneez', 'achoo', 'usernam', 'tammielynn', 'weather', 'bought', 'sandal', 'yellow', 'aunti', 'haylea', 'gr', 'reaalllyy', 'c', 'si', 'gal', 'ri', 'gota', 'full', 'club', 'deejtommyde', 'murderin', 'moriba', 'theke', 'sometim', 'charliepodg', 'fahckin', 'cost', 'though', 'alot', 'xxxx', 'probabl', 'join', 'juneambros', 'darianmurray', 'eeeeeeek', 'denawilliam', 'dena', 'jonasbroth', 'woow', 'figur', 'approach', 'attract', 'woman', 'public', 'zone', 'omgtbh', 'bit', 'enough', 'anyon', 'brutal', 'gunna', 'surviv', 'export', 'keynot', 'quicktim', 'favour', 'teacher', 'learn', 'chren', 'bitch', 'hungri', 'couldv', 'spent', 'skype', 'bc', 'distanc', 'yesyesyal', 'org', 'waddayaknowiamcool', 'point', 'lebogang', 'nkoan', 'barbarajon', 'joefes', 'edit', 'plu', 'christina', 'evan', 'poppa', 'finish', 'goin', 'dunkin', 'donut', 'jasmin', 'bsck', 'skul', 'beccaev', 'poor', 'foot', 'kiss', 'kristen', 'togeth', 'kri', 'drop', 'uploadin', 'genesi', 'scrambl', 'mlbarn', 'took', 'tylenol', 'badlyshavedboy', 'aha', 'mani', 'load', 'meet', 'along', 'mitchelmusso', 'tour', 'england', 'aweoms', 'eya', 'e', 'tayeb', 'ba', 'aaah', 'hart', 'xoxoxo', 'griev', 'iranian', 'tehran', 'iran', 'brave', 'ali', 'khamenei', 'mahmoud', 'ahmadinejad', 'microsoft', 'bing', 'recogn', 'symbian', 'browser', 'wast', 'bound', 'manila', 'fbom', 'sagada', 'experi', 'extrem', 'adventur', 'kell', 'krushka', 'uni', 'workload', 'salpick', 'ikea', 'irascian', 'label', 'mi', 'air', 'bbc', 'america', 'mattythorn', 'fix', 'officialspchuck', 'debat', 'season', 'black', 'cherri', 'nail', 'varnish', 'watchin', 'berni', 'macc', 'corina', 'deccckkk', 'kburi', 'socialis', 'payday', 'otherwis', 'defo', 'hiddenbedsid', 'hmmm', 'clam', 'goldigg', 'suffer', 'tweak', 'ipod', 'tommorow', 'mid', 'valley', 'stayton', 'edlea', 'idea', 'v', 'finger', 'netbal', 'purpl', 'electriccoco', 'topic', 'facebook', 'gay', 'huh', 'ruth', 'z', 'morrica', 'itouch', 'keyboard', 'lame', 'lovin', 'conduc', 'rebel', 'motorcycl', 'gettin', 'meh', 'tomarrow', 'thinkin', 'wildcard', 'allen', 'nite', 'laurenirwin', 'conita', 'yeaa', 'illustr', 'jamesdeengod', 'kimberlykan', 'push', 'ohcircuitrid', 'oddli', 'precis', 'savor', 'moment', 'jeffaquino', 'footlong', 'swear', 'somth', 'agoni', 'joint', 'whiskey', 'coke', 'lolaluftnagl', 'talkin', 'hon', 'lem', 'reader', 'emo', 'pullman', 'coug', 'juli', 'ginger', 'gh', 'metalica', 'ignment', 'apparantli', 'miami', 'august', 'realtor', 'sinu', 'dreamgirl', 'hypo', 'eyemdop', 'bum', 'dogwalk', 'oodangg', 'sleeeepov', 'sippin', 'finest', 'netherland', 'busi', 'damn', 'mom', 'concern', 'luvsebbiiecak', 'noo', 'flush', 'pack', 'housework', 'bathroom', 'clean', 'car', 'inspect', 'toronto', 'sat', 'hotel', 'manhunt', 'floor', 'yes', 'um', 'dane', 'cook', 'isol', 'incid', 'awsom', 'team', 'interest', 'depress', 'tommorrow', 'saidagp', 'letter', 'true', 'therealpokechop', 'beg', 'shoot', 'gulf', 'coast', 'th', 'grade', 'noya', 'yarin', 'decid', 'sit', 'ireland', 'thou', 'facial', 'bomber', 'win', 'eurovis', 'terri', 'wogan', 'minut', 'genuinli', 'upsidedown', 'ericakelli', 'dri', 'w', 'heat', 'index', 'cloud', 'cover', 'steam', 'sooooper', 'dooooper', 'ground', 'ugggh', 'rocklobst', 'stuck', 'bahahaha', 'petrilud', 'sooo', 'delici', 'eaten', 'esha', 'cluster', 'confer', 'focu', 'bruce', 'hammond', 'sen', 'highlight', 'andrea', 'nosey', 'uhhh', 'ooooohh', 'richard', 'gabl', 'secret', 'sizzl', 'daylight', 'pah', 'pink', 'giraff', 'geekoff', 'heatherrleec', 'support', 'excel', 'angela', 'answer', 'biggest', 'deg', 'suppli', 'offic', 'comp', 'forev', 'regret', 'stoney', 'creek', 'soccer', 'tournament', 'kchenoweth', 'fiona', 'iusher', 'guyshear', 'report', 'spot', 'impact', 'bcrescueuk', 'mrstrumpster', 'yuck', 'oven', 'amykaawaloa', 'special', 'destine', 'lollipop', 'rainbow', 'bbq', 'advert', 'jude', 'tonistack', 'telfer', 'etc', 'wang', 'apost', 'sympathi', 'flat', 'rush', 'mil', 'yraycyru', 'yep', 'besti', 'bud', 'savannah', 'jet', 'ski', 'jb', 'ago', 'doombroski', 'suppos', 'devobrown', 'mma', 'hafta', 'headphon', 'critic', 'prioriti', 'nap', 'slept', 'deepli', 'ugliest', 'capnkindbud', 'given', 'nestl', 'deborahedward', 'outlaw', 'wiki', 'linuxoutlaw', 'act', 'bioottcchhh', 'biotchi', 'puppi', 'kitten', 'ddlovato', 'lj', 'ruin', 'write', 'graduat', 'southland', 'carambel', 'heyi', 'katrina', 'affright', 'eh', 'jasminelaurenxo', 'cud', 'blow', 'coachin', 'moz', 'straight', 'footi', 'linbi', 'yiddish', 'via', 'catjuju', 'tom', 'drewmgriffin', 'site', 'wound', 'pas', 'jessica', 'chaster', 'cdelien', 'kmbxl', 'maltpress', 'ring', 'bell', 'miseri', 'myspac', 'ajaypag', 'ahh', 'thearchriv', 'arriv', 'hellz', 'bellz', 'crook', 'castl', 'deck', 'khristina', 'shore', 'things', 'babe', 'fantasi', 'semest', 'hw', 'class', 'blood', 'recommend', 'milk', 'inspir', 'hard', 'cafe', 'gym', 'awh', 'galleria', 'dalla', 'ytday', 'seen', 'buy', 'sreejith', 'karteekj', 'creat', 'itun', 'mess', 'count', 'podcast', 'plurk', 'bot', 'ack', 'tag', 'underwat', 'kuya', 'steph', 'cam', 'view', 'theabundantgift', 'hmmmmm', 'yelyahwilliam', 'didin', 'sharpestpencil', 'renov', 'divorc', 'chill', 'superrr', 'booo', 'comput', 'anaknyt', 'rio', 'daft', 'brilliant', 'bash', 'oldest', 'massiv', 'water', 'pistol', 'bucket', 'spong', 'slide', 'drench', 'weak', 'sweetest', 'princessvicki', 'brash', 'rude', 'prob', 'issu', 'michaelahil', 'followfriday', 'theefunklord', 'vaniti', 'narciss', 'comic', 'sagt', 'pasaway', 'consequ', 'huhu', 'joyjud', 'gosh', 'gila', 'loveee', 'lifehous', 'bella', 'fave', 'tplezya', 'near', 'petewentz', 'arm', 'king', 'mabster', 'box', 'mariadkin', 'brian', 'heavsunshin', 'laroza', 'kat', 'yoji', 'bubba', 'bodi', 'yucki', 'jayybabyy', 'dude', 'whatev', 'transform', 'andrew', 'istheguy', 'star', 'war', 'nd', 'hand', 'store', 'rahiemshabazz', 'gottalaff', 'march', 'million', 'plan', 'road', 'trip', 'state', 'clump', 'texa', 'comau', 'settl', 'silverston', 'era', 'patreng', 'photoshoot', 'hol', 'househunt', 'joy', 'pitchfork', 'chicago', 'bend', 'dull', 'ahead', 'anim', 'byeee', 'instead', 'lay', 'degre', 'fourth', 'grader', 'miso', 'rice', 'mochi', 'fml', 'ancmowat', 'ami', 'stuf', 'chicken', 'breast', 'corn', 'cob', 'mash', 'potato', 'complic', 'brain', 'aaaaah', 'fook', 'yoh', 'goodnight', 'sendita', 'proud', 'accomplish', 'thu', 'warm', 'glorious', 'sunni', 'aberdeen', 'novelti', 'nuurajeerah', 'jollibee', 'crave', 'jeng', 'nathan', 'clu', 'campwildgirl', 'cuttin', 'kill', 'dwonder', 'trek', 'amaz', 'hmm', 'prettyboydrewsk', 'shatter', 'eva', 'bx', 'mydarlingemma', 'stalk', 'stack', 'perth', 'panic', 'mile', 'jordanknight', 'attent', 'boogi', 'sf', 'airport', 'girlsk', 'frickin', 'omgod', 'trent', 'reznor', 'stream', 'app', 'machin', 'lala', 'spotifi', 'jinnpod', 'momento', 'pair', 'jean', 'wear', 'divoom', 'itour', 'speaker', 'munchi', 'main', 'derrich', 'cloudi', 'thenotoriousjen', 'mclovin', 'speak', 'wheatley', 'remind', 'seth', 'supabad', 'hahahaha', 'router', 'fone', 'tim', 'kirbi', 'dna', 'comm', 'windsor', 'triathlon', 'shayrobertson', 'girli', 'acidicfizz', 'code', 'understand', 'mh', 'bonjourimyvett', 'pester', 'izzi', 'cullen', 'nope', 'age', 'younger', 'three', 'cup', 'ealier', 'sudden', 'grumpi', 'whereislena', 'coupl', 'celeb', 'sheenanastaja', 'yup', 'tomrw', 'everybodi', 'mycahhhx', 'velvethamm', 'ot', 'chriscarrol', 'constitut', 'czar', 'sadli', 'ohh', 'suprem', 'thomprior', 'janet', 'brown', 'biographi', 'schneider', 'wei', 'giant', 'mail', 'shaundiviney', 'katherineluhvsu', 'moon', 'calkenneth', 'zero', 'johnboyl', 'neece', 'men', 'coy', 'walli', 'donni', 'singl', 'q', 'base', 'djane', 'appear', 'puddingfac', 'thunder', 'fork', 'lightn', 'hailston', 'electricti', 'storm', 'yey', 'atrium', 'fernbank', 'atlanta', 'mix', 'stori', 'marbl', 'room', 'gy', 'esik', 'az', 'ahogi', 'soha', 'edz', 'kisz', 'rt', 'k', 'kerekeit', 'coud', 'gloriavelez', 'gud', 'touchdown', 'safe', 'side', 'crazy', 'godspack', 'banner', 'luck', 'fanci', 'lora', 'mystibh', 'franc', 'terrifi', 'busytweet', 'feed', 'couldddo', 'lose', 'lb', 'loov', 'jook', 'tackl', 'bolt', 'cake', 'aabink', 'dye', 'ceal', 'lion', 'lintangparamita', 'blast', 'blabber', 'extra', 'promot', 'contact', 'gooteck', 'aww', 'ugli', 'bruis', 'leg', 'homework', 'crazi', 'danni', 'hen', 'term', 'heart', 'shud', 'pixi', 'calgon', 'sridevisangaiah', 'rickbanerje', 'mprajvel', 'impromptu', 'discus', 'macdonald', 'neopetsgalaxi', 'rufu', 'longer', 'ifollowmik', 'oliyoung', 'hole', 'zoomindianmedia', 'greed', 'lust', 'posit', 'hatr', 'rule', 'gujarat', 'riot', 'newegg', 'worth', 'sig', 'requir', 'signatur', 'sticker', 'guest', 'disc', 'crack', 'dosnt', 'la', 'jen', 'niffer', 'mlwebb', 'nascar', 'errand', 'pl', 'mark', 'lollipopsuck', 'spam', 'unabl', 'un', 'kennyjacob', 'mmuk', 'biscuit', 'macbook', 'bf', 'wolverin', 'pixelyz', 'trust', 'websit', 'googl', 'beccabubblesx', 'ignor', 'glee', 'aot', 'plant', 'zombi', 'dun', 'buck', 'sailorish', 'sun', 'chad', 'realis', 'morrissey', 'manchest', 'majorli', 'upset', 'fd', 'thx', 'geekmommi', 'whhhaaattt', 'green', 'awhil', 'pleasurep', 'peterdonald', 'client', 'peter', 'runaround', 'whitneybowl', 'baaaabi', 'lazer', 'acupunctur', 'magicmik', 'cop', 'mob', 'untouch', 'cardiff', 'wi', 'pod', 'bono', 'saden', 'technolog', 'ceil', 'light', 'blown', 'landlord', 'urgent', 'tittergrrl', 'endur', 'wacki', 'interrupt', 'eeww', 'grab', 'garlic', 'hummu', 'discov', 'samhookcompound', 'cold', 'picture', 'yiyinglu', 'either', 'prtini', 'sternalpr', 'split', 'separ', 'bet', 'seri', 'suggest', 'electro', 'download', 'cheer', 'toryjan', 'sewer', 'catastroph', 'fridg', 'whose', 'sharrrzor', 'high', 'five', 'robdyrdek', 'dramabeat', 'magic', 'brianna', 'quarrygirl', 'qgirl', 'grandpa', 'jim', 'heidi', 'spencer', 'marri', 'cousel', 'threw', 'scenario', 'rent', 'mo', 'goooood', 'raethoven', 'vogu', 'seattl', 'thepauldaniel', 'shall', 'math', 'soo', 'boohooo', 'aretzena', 'kasia', 'insan', 'treat', 'dirti', 'spaghetti', 'worm', 'pernillenc', 'buffalo', 'second', 'immun', 'theellenshow', 'maggiefortson', 'dishwash', 'bloodi', 'unload', 'notic', 'lock', 'outlook', 'rd', 'jburno', 'cwpeter', 'themselv', 'human', 'child', 'tall', 'le', 'glaswegian', 'scienc', 'paula', 'lalalala', 'congrat', 'rich', 'local', 'dondihananto', 'mrshananto', 'tower', 'dark', 'fall', 'plung', 'death', 'glenn', 'kfc', 'cruis', 'clicker', 'ccareford', 'direct', 'send', 'super', 'info', 'thehitlist', 'chat', 'crash', 'talkk', 'rmilana', 'hod', 'sleepi', 'worktim', 'disneydork', 'thetazzon', 'unabashedli', 'byw', 'logic', 'niiight', 'paint', 'wc', 'themillst', 'faith', 'werewolfjacob', 'trivia', 'gose', 'med', 'bachelorett', 'mikesawrit', 'cappuccino', 'missprototyp', 'snore', 'chain', 'comcast', 'yahoo', 'address', 'kick', 'space', 'render', 'documentari', 'entri', 'blog', 'nashalbacea', 'easi', 'brantleyjackson', 'jk', 'polit', 'cymru', 'lib', 'dem', 'breath', 'neck', 'hull', 'council', 'manicmai', 'dang', 'pocket', 'empti', 'mag', 'bri', 'theanand', 'useless', 'current', 'presid', 'sonia', 'dummi', 'taracandelaria', 'twit', 'koo', 'mightymuttsg', 'casm', 'jimrhoskin', 'realtorsandyn', 'crappi', 'noooo', 'partner', 'irisloh', 'unpronounc', 'drug', 'strang', 'chine', 'cw', 'kellieoc', 'pitch', 'bathtub', 'angri', 'sintequ', 'junki', 'cindicupcak', 'dway', 'gurli', 'vivi', 'hannah', 'montana', 'staciebe', 'bzowi', 'argument', 'offer', 'taho', 'hbp', 'grove', 'holli', 'yat', 'kidnap', 'ninja', 'kung', 'fu', 'ol', 'stand', 'gregorybodnar', 'axelsros', 'jellybabi', 'acoetze', 'whali', 'axon', 'ringu', 'shiver', 'spine', 'def', 'prefer', 'comedi', 'horror', 'pace', 'moneymarv', 'sup', 'kuzzo', 'yo', 'tyme', 'krmcguir', 'sport', 'memori', 'napoli', 'dolc', 'colleagu', 'aliv', 'raiofsunshin', 'whaaaat', 'alert', 'presenc', 'thanx', 'jay', 'miabp', 'elipt', 'swing', 'katcal', 'john', 'roshyyi', 'atm', 'hotmail', 'fast', 'yall', 'stayin', 'vickyjon', 'teemonst', 'none', 'sunburn', 'itchi', 'mage', 'dancehalconnect', 'mite', 'photograph', 'focker', 'ben', 'stiller', 'gfalcon', 'spread', 'tight', 'cari', 'tx', 'chapter', 'coa', 'pkennard', 'muscl', 'calf', 'sink', 'bulg', 'tmi', 'fuzzbal', 'capnfoo', 'nxt', 'wk', 'mexico', 'vaca', 'kellydivin', 'depend', 'mrsjmd', 'hormon', 'rockshow', 'luckki', 'mooo', 'killer', 'woohoo', 'grow', 'beautiful', 'vid', 'imajicart', 'drew', 'sharpi', 'rub', 'favourit', 'gleev', 'jumper', 'nausea', 'dslat', 'dr', 'muck', 'david', 'jonathanab', 'onstteam', 'shoutout', 'burnt', 'lvatt', 'camp', 'extern', 'storag', 'taco', 'antichrist', 'poison', 'mfhorn', 'mmm', 'yummi', 'honest', 'janeygodley', 'alan', 'duti', 'round', 'tamyt', 'knotchent', 'papi', 'pat', 'elli', 'terracegirl', 'stolen', 'naughti', 'millamanila', 'stupid', 'avail', 'ing', 'stick', 'agh', 'grr', 'gusf', 'perhap', 'photowalk', 'camera', 'enviou', 'rid', 'camaro', 'reali', 'cat', 'four', 'myear', 'chriscornel', 'jamesschramko', 'tleaveyet', 'wordpress', 'groceri', 'dc', 'hellokimmi', 'kl', 'abigaelettuc', 'cuz', 'tomorow', 'jenpont', 'pea', 'fgeerdink', 'stare', 'clock', 'yaaay', 'homeoffic', 'takisoma', 'limecello', 'cupboard', 'alcool', 'uvers', 'transfer', 'beverli', 'outsid', 'bug', 'curlycow', 'chemistri', 'heartach', 'whoremydior', 'lmao', 'ga', 'esmeeworld', 'outta', 'fayanora', 'jonathanrknight', 'jon', 'complex', 'sentenc', 'chippi', 'whilst', 'queue', 'allow', 'cbhick', 'scarlettjen', 'awwww', 'xsweetmiseri', 'imax', 'throat', 'melissoua', 'rebelchicnyc', 'yike', 'paper', 'altid', 'outtt', 'hahaa', 'multicultur', 'dish', 'grrrr', 'joeyldotcom', 'imafuckngeniu', 'wit', 'swimmng', 'hada', 'selenagomez', 'peekinc', 'activ', 'gf', 'tuesday', 'known', 'referr', 'accident', 'yolk', 'runni', 'dammit', 'mommi', 'lor', 'crawfish', 'boil', 'michlerish', 'japanes', 'trueli', 'afraid', 'blackberri', 'hasnt', 'ow', 'starbyysss', 'addict', 'beerpong', 'movingon', 'kingcup', 'awwlwwlllriittee', 'jscrinc', 'click', 'brow', 'ea', 'folder', 'document', 'file', 'server', 'xlucyloox', 'confid', 'loserrrrr', 'stoke', 'conan', 'kept', 'theme', 'goodnit', 'twigga', 'twitch', 'convo', 'row', 'etern', 'exmi', 'doll', 'ur', 'doggi', 'marahpatric', 'workin', 'hub', 'expect', 'higher', 'crude', 'oil', 'price', 'dollar', 'weaken', 'test', 'bbl', 'rick', 'pregobabi', 'pant', 'ate', 'yummmm', 'wassup', 'lamb', 'fam', 'cornerston', 'kayfromthebay', 'kay', 'cutoutcollect', 'octob', 'prepar', 'christma', 'refus', 'messag', 'restart', 'unread', 'nelsonaspen', 'sunris', 'boltonerrrr', 'manci', 'lmfao', 'chel', 'herrr', 'sicken', 'number', 'tragic', 'hungryyyyi', 'eeeeat', 'burger', 'seafood', 'chanc', 'hold', 'makn', 'lifetim', 'wknd', 'cheesecak', 'factori', 'britt', 'practic', 'shower', 'reallysick', 'jenna', 'yarnharlot', 'kirk', 'scream', 'khaaaan', 'therefor', 'shatner', 'mszjazebel', 'jazmen', 'witout', 'candyygirl', 'fine', 'vote', 'jwojwo', 'moustach', 'ep', 'bonnielandau', 'uriel', 'karenscottradar', 'attend', 'summerfest', 'maxim', 'recent', 'window', 'convert', 'page', 'assum', 'wide', 'metaphor', 'slap', 'stress', 'mauricioswg', 'karok', 'knock', 'rsc', 'ftw', 'kack', 'mack', 'nack', 'quack', 'ouack', 'giftuseem', 'abcbabynam', 'suki', 'kissi', 'belov', 'bond', 'suzuki', 'snowboard', 'guid', 'melon', 'madisonmitchel', 'detroit', 'behind', 'adriarichard', 'diggin', 'orang', 'victoria', 'garden', 'urghhhh', 'dislik', 'modifi', 'web', 'feedback', 'fryfan', 'amadeaxxdanc', 'taliarusso', 'qualiti', 'laurin', 'gaga', 'adam', 'thud', 'caught', 'virtual', 'sunbath', 'spa', 'tarryn', 'cryschantil', 'leilalarkin', 'watchn', 'selena', 'homesick', 'altho', 'citi', 'suddenli', 'dizzi', 'order', 'candl', 'jeweljk', 'catlow', 'cec', 'tomo', 'lani', 'luv', 'soooooo', 'scottfaldon', 'braz', 'flexibl', 'ocalheiro', 'gillyliz', 'chozn', 'nicolii', 'gah', 'annoy', 'heartbroken', 'nyc', 'horrid', 'janin', 'stacey', 'coven', 'gig', 'ryan', 'robert', 'pattison', 'riotpixel', 'darthdigit', 'gotsta', 'mariamouk', 'matter', 'ae', 'midnight', 'mexican', 'feast', 'morng', 'stomach', 'milllenium', 'cedar', 'roller', 'coaster', 'hip', 'waist', 'unnatur', 'fuuuuuuuuck', 'popsicl', 'hungov', 'intend', 'drat', 'lindsay', 'encourag', 'plenti', 'salocinhb', 'slaint', 'sip', 'prosecco', 'kxip', 'brianchenault', 'downstair', 'disturb', 'moodi', 'dig', 'bark', 'awoken', 'fuk', 'sytycd', 'hire', 'ava', 'spauld', 'bounc', 'fever', 'bilang', 'plurker', 'gw', 'nick', 'norah', 'infinit', 'playlist', 'poo', 'cera', 'auchh', 'alexasalsabila', 'yiiee', 'acab', 'beedax', 'mount', 'ninjza', 'suzann', 'mcleod', 'carol', 'street', 'chunkofplast', 'yayyy', 'sell', 'cheaper', 'sorryyi', 'coursework', 'jasmika', 'heard', 'chri', 'biggoldchainz', 'sold', 'ouuuuttt', 'mistahfab', 'easti', 'brodi', 'holleronfir', 'bengal', 'jeffnewsom', 'ob', 'hors', 'thepooni', 'olyolyoh', 'bahahahahaha', 'irma', 'che', 'shamelessli', 'lambert', 'net', 'yr', 'fr', 'behalf', 'network', 'diva', 'style', 'zi', 'khanvict', 'nailbit', 'penalti', 'shootout', 'certainli', 'footbal', 'prowess', 'frustrat', 'xoxobear', 'homo', 'preeti', 'smoke', 'healthier', 'jog', 'commit', 'arson', 'environ', 'pooooor', 'chachi', 'surgeri', 'todayyyyy', 'anaritaair', 'estava', 'fazer', 'paze', 'lllllaura', 'byt', 'blurri', 'pedrosa', 'nooo', 'ev', 'rather', 'reject', 'hughsbeauti', 'weneedfletch', 'medo', 'da', 'dela', 'mooni', 'hugggg', 'steal', 'asatiir', 'convienc', 'thatamykid', 'howev', 'suit', 'asda', 'aftersun', 'makeup', 'remov', 'nearli', 'patt', 'ait', 'fair', 'program', 'featur', 'histor', 'ironwood', 'theater', 'fashion', 'saur', 'kraut', 'museum', 'comin', 'tweenkl', 'taught', 'habit', 'majornelson', 'buddi', 'stage', 'beta', 'blue', 'screen', 'printer', 'driver', 'drown', 'sorrow', 'duel', 'schreeandbabi', 'rachel', 'londondiva', 'zillyboo', 'shook', 'therealpryslezz', 'track', 'titan', 'lucki', 'stephani', 'recip', 'beer', 'rear', 'membran', 'youth', 'basicli', 'ttli', 'allieincred', 'wasnt', 'smoooooov', 'mel', 'bourbon', 'ash', 'delta', 'goodrem', 'shaun', 'dubbo', 'twiter', 'omj', 'honestli', 'greatest', 'jeneennicol', 'natashabaili', 'havent', 'chit', 'anna', 'yeyi', 'chriscre', 'allyssawal', 'noooooo', 'passport', 'empress', 'ccp', 'silli', 'imalexevan', 'msjadi', 'fli', 'lax', 'wave', 'franklero', 'vodka', 'hyper', 'sugar', 'toilet', 'tamikca', 'rene', 'mrscain', 'babygirlsomajor', 'salioelsol', 'mizz', 'lulu', 'maiababyblu', 'bribri', 'lillianwong', 'ohdatsbeezi', 'mangokiwi', 'asia', 'clanci', 'pvdoffici', 'tronix', 'tumblr', 'tk', 'famouu', 'southbank', 'misshannahsha', 'soooo', 'stanleyyork', 'beckyl', 'member', 'whale', 'darthnaida', 'havant', 'bree', 'inctoday', 'gov', 'daniel', 'unemploy', 'kir', 'ty', 'blink', 'abbafan', 'consol', 'otalia', 'marathon', 'heheh', 'flight', 'passeng', 'crew', 'lush', 'island', 'ohapey', 'hale', 'xxx', 'nighti', 'mollyoconnor', 'hahaha', 'csi', 'printchick', 'harleyfatboy', 'aaww', 'horsetweet', 'cccccan', 'dotwaffl', 'rackspac', 'unfortun', 'justifi', 'host', 'visual', 'waaahhh', 'rythm', 'adolgushin', 'diver', 'boyl', 'movin', 'willpug', 'regular', 'donat', 'result', 'appt', 'small', 'economist', 'incom', 'asset', 'digit', 'valuat', 'cabin', 'forest', 'alallday', 'sufer', 'nasti', 'pb', 'falk', 'squid', 'becom', 'difficult', 'snugnluv', 'contraband', 'peach', 'passionsista', 'artist', 'creativ', 'jenamnmpm', 'fallow', 'incred', 'imposs', 'moolah', 'delamarrx', 'mum', 'dell', 'save', 'referendum', 'reveng', 'soooooooo', 'affect', 'error', 'icon', 'houston', 'htown', 'nua', 'episod', 'wonderland', 'costum', 'trendi', 'skirt', 'rip', 'bikini', 'british', 'neildenni', 'boot', 'heh', 'paperwork', 'everytim', 'chore', 'davidblain', 'audio', 'anoopdoggdesai', 'retweet', 'dannygokeyislov', 'counter', 'hell', 'nobodi', 'quickli', 'especi', 'epic', 'feder', 'relax', 'hangout', 'chipmunkartist', 'jokoy', 'fcukin', 'couldnt', 'bllaaahhh', 'stole', 'kyro', 'amber', 'delhi', 'punjab', 'demi', 'lovato', 'mugpi', 'hsm', 'upst', 'montan', 'pinkeyedmonst', 'niteskolar', 'flame', 'medicin', 'serendip', 'julian', 'kirrin', 'xd', 'dormousezzzz', 'bless', 'cross', 'puddl', 'niley', 'redland', 'riversid', 'irrit', 'shitti', 'melissasherman', 'kitti', 'card', 'rkoluvsdiana', 'beat', 'leon', 'jackson', 'diana', 'katreenamoreno', 'shantyrod', 'ffxi', 'pandabuilt', 'blank', 'supernaturalami', 'turk', 'opt', 'contract', 'haleydanyel', 'ho', 'eaaaarlay', 'colleg', 'bbit', 'adamjohnbradley', 'swell', 'ocsuprem', 'lifesabeach', 'oo', 'neighbour', 'physic', 'gcse', 'ezstreet', 'pg', 'cti', 'shoulnt', 'birdi', 'dept', 'tyron', 'ohhh', 'tooooo', 'eu', 'soooono', 'shyne', 'deserv', 'dime', 'poppin', 'scupper', 'wind', 'moosemystiqu', 'netflix', 'express', 'anger', 'tele', 'ooh', 'carr', 'bethstil', 'overlap', 'rsvp', 'disappoint', 'curl', 'thisisrobthoma', 'hurri', 'plane', 'australia', 'pachira', 'aquatica', 'clue', 'chrisjakob', 'kno', 'gilmor', 'sooki', 'skeletonlight', 'cosimo', 'travel', 'seoul', 'mmsanwar', 'cha', 'birchsoap', 'jkesner', 'ovi', 'wvu', 'keali', 'bday', 'ohoh', 'cough', 'misslovejon', 'epi', 'longo', 'sg', 'ch', 'cu', 'ng', 'nh', 'ph', 'gian', 'nguy', 'tr', 'khi', 'tn', 'lizawhitten', 'neat', 'straycat', 'goodi', 'sawol', 'brand', 'wooooooo', 'wizard', 'waverli', 'commun', 'connector', 'newslett', 'column', 'newspaer', 'format', 'traffic', 'schofe', 'piti', 'phobic', 'omgosh', 'boredddd', 'lumifish', 'prejud', 'prima', 'rockstar', 'catchyy', 'joshmyheart', 'attack', 'seatbelt', 'pixl', 'bff', 'mitchel', 'musso', 'cd', 'amarabidali', 'offens', 'bar', 'soap', 'trvsdjam', 'mixtap', 'vol', 'definit', 'keshiachant', 'btw', 'pap', 'uncomfort', 'izzyj', 'ocho', 'appli', 'success', 'caterpillar', 'sprint', 'opposit', 'queenjada', 'iamhewhoisiam', 'jessieful', 'harlem', 'ermin', 'pearl', 'tramp', 'miley', 'cyru', 'chocol', 'skittl', 'duud', 'ladieenticin', 'neighbor', 'irl', 'xoxgothamxox', 'primev', 'oooooh', 'dinosaur', 'bookrambl', 'davi', 'earth', 'tweeti', 'sagarsheldekar', 'reach', 'bb', 'peek', 'buhrayaaan', 'outag', 'maintain', 'data', 'mattfrompa', 'chrisoc', 'whitefolkz', 'length', 'highland', 'doctorwho', 'forum', 'highlandwho', 'ksmoffici', 'videoo', 'roxycross', 'drool', 'tini', 'tomato', 'sirjolt', 'lovelovelov', 'gener', 'joshthoma', 'thetennistim', 'articl', 'odett', 'jenniferlynn', 'perezhilton', 'dreamsjustfloat', 'hayitstayl', 'ik', 'idgi', 'jendvera', 'arggghhhh', 'tuesdayyyyy', 'christineleis', 'pushingdaisi', 'continu', 'katyytak', 'id', 'young', 'eichmaaan', 'klblah', 'teh', 'internetz', 'todayyyyyi', 'bsorg', 'brit', 'wesom', 'syncret', 'niall', 'mysticpurz', 'ultracatchi', 'somehow', 'swedish', 'xxslavaxx', 'lie', 'mall', 'softbal', 'syd', 'iainmcgin', 'alannaaaa', 'guurrl', 'tryin', 'finf', 'paolo', 'nutini', 'fuckin', 'dtonk', 'wooop', 'liam', 'progress', 'hosp', 'eglamourphoto', 'woodland', 'hill', 'hayfev', 'loka', 'cy', 'huhuh', 'trade', 'tenni', 'shepard', 'jted', 'stubberif', 'blew', 'surg', 'kromer', 'morrow', 'cozz', 'healthi', 'xox', 'veronicaearl', 'emilyhugh', 'tote', 'notebook', 'written', 'chicklit', 'wah', 'wordcamp', 'size', 'crasi', 'burr', 'todayi', 'henrydittman', 'supris', 'comcastbonni', 'cabl', 'modem', 'longgg', 'officialbn', 'toooo', 'rawr', 'alcohol', 'adammo', 'rok', 'ubiierna', 'grad', 'tracecyru', 'chuck', 'wooki', 'carina', 'fatherbob', 'cameronreilli', 'aussi', 'phil', 'chronix', 'tusen', 'tack', 'normal', 'overtim', 'ughh', 'courtney', 'lee', 'magicccc', 'donniewahlberg', 'fwmj', 'jose', 'firefox', 'correct', 'spell', 'rofl', 'draw', 'shakdeez', 'urself', 'kim', 'kardashian', 'fairyblogmoth', 'seren', 'balanc', 'third', 'disparag', 'skill', 'chriskaruna', 'gaasland', 'norway', 'fox', 'sonni', 'aah', 'frd', 'mariawillbeokay', 'karissa', 'morgan', 'mac', 'chees', 'mhm', 'whatch', 'remot', 'orbit', 'dakota', 'jane', 'elev', 'perfect', 'volvicchalleng', 'tesco', 'bottl', 'prop', 'bank', 'tomfelton', 'nicki', 'riley', 'bumbathepanda', 'repos', 'dispos', 'thumb', 'teach', 'self', 'mutil', 'amazin', 'yday', 'tonii', 'yeeeeeeeeeeeah', 'contdown', 'schoolconcert', 'ciao', 'cardigan', 'blaim', 'idehea', 'radioalexand', 'llcooldav', 'xicandix', 'blasianfma', 'beeeed', 'bunt', 'toast', 'enlist', 'polu', 'kai', 'serendra', 'distilleri', 'jaim', 'denni', 'patrick', 'swayz', 'sammi', 'mcpherson', 'sicki', 'eye', 'gretaw', 'cad', 'tu', 'joieelectr', 'omarhtl', 'stokkeedddd', 'angi', 'lad', 'relationship', 'dreamt', 'apudud', 'convers', 'theros', 'jasssonnnn', 'goood', 'seee', 'kyra', 'nephew', 'renanpopowicz', 'tweeteradd', 'arg', 'wrap', 'folk', 'mav', 'lron', 'jaii', 'vile', 'con', 'energi', 'low', 'tam', 'aerocl', 'burst', 'tc', 'twtrcon', 'germani', 'gawd', 'monti', 'disconnect', 'anjelusx', 'booz', 'retrorewind', 'dave', 'lenkaaa', 'decart', 'outcom', 'idopeboy', 'whitete', 'tee', 'beatin', 'dawg', 'barr', 'laser', 'tapx', 'debut', 'whee', 'honour', 'roehmjm', 'atomicn', 'meganhoov', 'slave', 'fabul', 'niketheori', 'trailer', 'wet', 'derbi', 'badli', 'debbiefletch', 'bangingg', 'anneee', 'lafinguy', 'mike', 'maroo', 'epp', 'bikermom', 'hee', 'perpetualvomit', 'kenni', 'sugarland', 'szablog', 'vacuum', 'cleaner', 'kissahasrsd', 'hbo', 'racheellloviin', 'bestfriend', 'ia', 'nj', 'competit', 'grfestiv', 'jasonkennedi', 'hondura', 'sazinwonderland', 'dleet', 'aaroncart', 'ontd', 'exactli', 'fiasco', 'taral', 'peer', 'leadership', 'disneyteddi', 'anniversari', 'lil', 'brah', 'xbox', 'pirat', 'bay', 'trial', 'verdict', 'appar', 'anntr', 'matt', 'twice', 'vinni', 'themma', 'choic', 'pinkzpingkan', 'huaahh', 'cukup', 'seruu', 'pinkz', 'tapi', 'cuapek', 'euy', 'nanti', 'mau', 'poto', 'di', 'abi', 'diedit', 'sekarang', 'tidur', 'duluu', 'brittdixonpink', 'town', 'migrain', 'nauseou', 'kaeti', 'whaaat', 'chitahears', 'jayn', 'sooooooo', 'properli', 'heidistephen', 'guardian', 'apolog', 'chrisvdberg', 'rebirth', 'megsphotographi', 'xsi', 'mm', 'len', 'sheet', 'ninki', 'emomeowroblox', 'tonnyc', 'warwickrobot', 'moodl', 'lenasvenson', 'iseenobodi', 'clap', 'fritzmoney', 'shuck', 'blush', 'offlin', 'dulcecandi', 'waaaaw', 'belli', 'dannywood', 'walkin', 'stair', 'jessemccartney', 'plzzz', 'jess', 'setup', 'ultim', 'brianwelburn', 'warehous', 'pun', 'gmoney', 'danwarp', 'dannifnb', 'comment', 'afromolli', 'pizzzza', 'sunlight', 'daveyboyonlin', 'sexi', 'hat', 'cesyeuxblu', 'flower', 'bitemecullenxo', 'hp', 'section', 'alon', 'defnitli', 'california', 'iamthecommodor', 'europ', 'theandykaufman', 'epik', 'solid', 'litt', 'lun', 'howwwwwdi', 'twiterbud', 'allerg', 'fab', 'keishapooh', 'tightli', 'buffi', 'sob', 'munich', 'li', 'eyeshadow', 'silver', 'thekatina', 'godli', 'household', 'leader', 'cav', 'pen', 'socialdeath', 'cooti', 'pediatrician', 'roll', 'pinki', 'martial', 'art', 'unaccept', 'mixdotfm', 'kuch', 'cradlesong', 'fulll', 'lobster', 'delishhhh', 'regent', 'jare', 'leto', 'stelleri', 'zuman', 'cirqu', 'databas', 'listenin', 'meatloaf', 'checkin', 'layde', 'bleh', 'twenti', 'torrent', 'delet', 'fill', 'tank', 'idiot', 'zoo', 'kitchen', 'ocean', 'cabinet', 'ciciism', 'hun', 'delioncourt', 'stock', 'model', 'hco', 'againnn', 'ashleytisdal', 'serv', 'alix', 'jabronijess', 'wrk', 'sarah', 'connor', 'chronicl', 'craig', 'mscrismus', 'tlc', 'scranton', 'tearin', 'tha', 'hideyourlov', 'berakikiraquela', 'jacqueeeeeeeet', 'xddddd', 'allway', 'gogo', 'nickylaa', 'verli', 'mizzbellington', 'cheek', 'master', 'jst', 'speedin', 'indiana', 'prawn', 'cracker', 'mini', 'restor', 'lindaknox', 'sneak', 'jill', 'fitz', 'pork', 'chop', 'explod', 'vet', 'lgreenberg', 'bata', 'softwar', 'brick', 'sunburnt', 'woope', 'land', 'mj', 'color', 'bgsport', 'vt', 'aug', 'labor', 'platter', 'nae', 'uhh', 'mayyn', 'ima', 'salvador', 'sandyrockx', 'rc', 'proam', 'flyer', 'owe', 'wg', 'coverag', 'swizzlesqueak', 'ozazur', 'teeth', 'distribut', 'scottevest', 'budget', 'oheysam', 'obv', 'summery', 'tib', 'hotdog', 'packag', 'profession', 'billion', 'pin', 'mailer', 'tend', 'vista', 'pc', 'jolop', 'vikkiston', 'vikki', 'robrecord', 'telli', 'ghost', 'forlornli', 'welsh', 'mitt', 'mit', 'chan', 'dreamwidth', 'bluegrass', 'frankiethesat', 'simonmiddleweek', 'north', 'carolina', 'bradiewebbstack', 'andyclemmensen', 'fault', 'credit', 'mayoroflondon', 'janaaahaa', 'insha', 'allah', 'hjn', 'besid', 'dasasuk', 'thnx', 'scare', 'pentagramdesign', 'freddi', 'prinz', 'jr', 'therealesthero', 'chanhsouk', 'miriamcheah', 'takin', 'stil', 'wen', 'bak', 'jefferyyyy', 'decis', 'everyday', 'korean', 'takennnn', 'mode', 'xomollydollyxo', 'respond', 'aamyhaanson', 'libbi', 'fussi', 'stanley', 'film', 'dnw', 'whyyi', 'rachellouis', 'elphaba', 'beyond', 'level', 'mankind', 'mrskutcher', 'avrilwalsh', 'jason', 'gadget', 'helenabaert', 'natur', 'sadd', 'major', 'kingofankh', 'hedgehog', 'kebab', 'cruel', 'joey', 'mcintyr', 'jabbawockeez', 'dancer', 'met', 'undon', 'acoust', 'rikharvin', 'touch', 'respect', 'meow', 'kubaiss', 'sp', 'kde', 'jsou', 'asi', 'kdi', 'byli', 'fanstr', 'nki', 'emu', 'themofu', 'tetri', 'gameboy', 'shanika', 'angelnatalia', 'perfectli', 'explan', 'aplog', 'sketch', 'exe', 'virginia', 'tech', 'massacr', 'leno', 'pub', 'meghan', 'sum', 'crewag', 'marshmollow', 'michelehauf', 'thealishanshow', 'upcom', 'wolpert', 'walkunafraid', 'tlvlp', 'sandrinecharl', 'inger', 'tryna', 'sue', 'neva', 'cobwebsstir', 'gluten', 'wheat', 'rye', 'barley', 'oat', 'tooth', 'implant', 'uncov', 'officialnjona', 'webcast', 'casanadralov', 'perform', 'videotap', 'clan', 'crunch', 'releas', 'wooho', 'darealjimbeanz', 'mission', 'thru', 'ebbyzon', 'fic', 'rebeccamodestia', 'gsucheer', 'dread', 'realiti', 'montenegro', 'zackaronni', 'custom', 'rinabina', 'xoxxoo', 'lovebuglindsey', 'sshould', 'combomblog', 'cept', 'ianto', 'kimdub', 'giloi', 'yu', 'turkey', 'bacon', 'sausag', 'quiet', 'tidi', 'bummer', 'oyster', 'champagn', 'foodi', 'hongkong', 'jbwhaley', 'frumpyman', 'autuer', 'movement', 'curmudgeonli', 'luisa', 'trish', 'liarintheglass', 'thejetsetlif', 'iamqueenb', 'pound', 'ashlypayn', 'record', 'sheridan', 'luckylobo', 'failur', 'optim', 'pro', 'jbit', 'dnt', 'anyway', 'bright', 'skim', 'speedo', 'ajaybould', 'insomnia', 'geolog', 'nancyedunn', 'academ', 'admin', 'lexashmexa', 'sea', 'sherpherd', 'seal', 'ban', 'tooo', 'supernatur', 'lift', 'spirit', 'loo', 'douch', 'spellt', 'shot', 'steve', 'uuugh', 'tear', 'francescaroman', 'kimposs', 'nicest', 'gotten', 'somewhat', 'uhm', 'duh', 'blanket', 'oklahoma', 'stuartmal', 'gloriou', 'dublin', 'stoodz', 'bin', 'doin', 'anythin', 'ju', 'jbmcdlt', 'villag', 'york', 'yaysnowday', 'thursday', 'washin', 'receiv', 'deliveri', 'attempt', 'spi', 'redo', 'naptim', 'henni', 'monopoli', 'jawar', 'squarespac', 'swollen', 'lexasoarousrex', 'sam', 'ivyintherough', 'regard', 'warp', 'tourrrrrr', 'ljharb', 'accept', 'lab', 'chaunceyorr', 'peanut', 'butter', 'mad', 'coontast', 'proudli', 'pump', 'logandawg', 'yupyup', 'biiiiiiiiiiiiiig', 'cap', 'bigger', 'unhappi', 'pianist', 'mayfair', 'augustana', 'yaletza', 'puerto', 'rico', 'misscourtney', 'sever', 'montylemu', 'cuaaaaaaaaaaaaaaal', 'mandam', 'oye', 'agregast', 'stewart', 'byee', 'androidtomato', 'dimpl', 'tushi', 'fauther', 'hopefuli', 'effingcard', 'involv', 'ef', 'dual', 'beauknow', 'uptown', 'marcopollo', 'stoner', 'egg', 'mcmuffin', 'shell', 'spit', 'gabriel', 'goodforyoursoul', 'saigon', 'dessert', 'coconut', 'creme', 'brule', 'slepov', 'tang', 'withh', 'garrett', 'mason', 'funnnnn', 'south', 'exhibit', 'fresh', 'galleri', 'otara', 'verrri', 'mixpod', 'adaptec', 'partial', 'repair', 'replac', 'bio', 'monitor', 'meat', 'tonyrobbin', 'seminar', 'joke', 'yohay', 'lamiale', 'totaliterin', 'muy', 'muffin', 'handi', 'manni', 'evelyn', 'boulder', 'startupweekend', 'swb', 'chockwit', 'aaaaahhhh', 'charm', 'oscar', 'wao', 'oooh', 'beccabarakitti', 'doooo', 'bexi', 'hangin', 'drinkin', 'muffclass', 'brought', 'iii', 'manabouttowntv', 'launder', 'lovepeac', 'huni', 'grey', 'anatomi', 'bland', 'tonic', 'theatr', 'unit', 'unlock', 'locker', 'classic', 'mikey', 'cartoon', 'disney', 'childhood', 'ahhhhhhhhh', 'ahhhhhhh', 'hannahlouwalk', 'bubb', 'florida', 'fulli', 'equip', 'chick', 'flick', 'maffyewww', 'incredibili', 'acctuley', 'goto', 'crreepi', 'jax', 'robkaa', 'nearest', 'laurenmishel', 'ronin', 'poser', 'ftl', 'rawrannierawr', 'snowkitti', 'introduc', 'irememb', 'differ', 'lucaskokot', 'mei', 'powel', 'hannim', 'angeleyesbabyfa', 'tijuana', 'jonnerz', 'ff', 'christinacosta', 'suzmarqu', 'ray', 'kathyireland', 'thanksgiv', 'exampl', 'legal', 'tax', 'proper', 'emili', 'jenscloset', 'knew', 'histori', 'gooodnight', 'jazzercis', 'elegantamour', 'iranelect', 'hog', 'limelight', 'artic', 'johanlouw', 'luckili', 'crib', 'belgian', 'twilight', 'schooll', 'dannymcfli', 'brasilia', 'allergi', 'banana', 'fritter', 'cooki', 'oookay', 'seeya', 'eddidit', 'raspberri', 'mississippi', 'kristin', 'chenoweth', 'bphotographi', 'prayin', 'whit', 'uno', 'tre', 'cuatro', 'crete', 'chinaealexand', 'xoxox', 'nhoustonre', 'twidget', 'associ', 'tinkerbel', 'cnolovechild', 'datagoddess', 'drank', 'salt', 'gargl', 'plug', 'gooooooooooodddddddddd', 'mmmoooooorrrrrrrrniiiiiiiiiinnnnnnngggggg', 'fantabul', 'lunarobvers', 'panda', 'therapist', 'appoint', 'lead', 'sec', 'mycloset', 'ro', 'announc', 'london', 'faster', 'alysgotjetlag', 'milion', 'urbaneyecandi', 'immens', 'struggl', 'sammythestrang', 'harri', 'babysitt', 'funnnn', 'procrastin', 'stmluva', 'spare', 'kimd', 'mikecj', 'geek', 'safari', 'button', 'bookmark', 'uo', 'bwana', 'atleast', 'barrel', 'xoxo', 'wut', 'bearsonpatrol', 'twollar', 'greggrunberg', 'deaf', 'dvd', 'nanci', 'swine', 'flu', 'littlehom', 'baaack', 'yeeey', 'itxi', 'itx', 'blip', 'disrupt', 'compar', 'contrast', 'msv', 'litr', 'unebellefemm', 'schedul', 'conflict', 'ell', 'wire', 'system', 'ksurritt', 'china', 'heavi', 'overal', 'chriseffinw', 'wwwwwhat', 'dieee', 'elizabeth', 'glaser', 'pediatr', 'foundat', 'hero', 'academieduello', 'fenc', 'puddlegear', 'telu', 'jthake', 'outstand', 'pauliniunia', 'ry', 'mortgag', 'market', 'ciali', 'ralli', 'yri', 'ex', 'bunnydoz', 'crab', 'rocki', 'woodi', 'imjustincognito', 'escap', 'lou', 'cfsam', 'wishin', 'jtv', 'xkirstyjan', 'txt', 'pus', 'wallac', 'gromit', 'turbo', 'matic', 'rack', 'whoppi', 'stellarveloc', 'salarbaktash', 'salar', 'jojo', 'feat', 'marc', 'zac', 'thisstarchild', 'mope', 'ala', 'repai', 'sculptresslist', 'slowli', 'provid', 'brap', 'kyle', 'kowar', 'brookecarney', 'dy', 'piec', 'frontttttt', 'zahranichlani', 'curang', 'nonton', 'duluan', 'onimusha', 'wornn', 'thee', 'fuckkk', 'worthh', 'waitin', 'ggg', 'dadddi', 'holi', 'goal', 'japan', 'agian', 'dec', 'pott', 'greasi', 'sandwich', 'pato', 'stm', 'oww', 'cultur', 'easter', 'dearest', 'facilit', 'isihac', 'radio', 'iplay', 'gtg', 'brb', 'zawfi', 'unveil', 'msgjone', 'tough', 'ditditdit', 'bcoz', 'kg', 'stella', 'rosi', 'posi', 'jakirapresley', 'internetartist', 'yeap', 'gregsbh', 'male', 'speci', 'kiwikewlio', 'tgif', 'porshalan', 'priscelli', 'saidn', 'batteri', 'detector', 'freakn', 'house', 'messsag', 'mee', 'thaknss', 'glamfnkdskobabi', 'krisrey', 'rod', 'jammin', 'dose', 'buckey', 'iroccwilliam', 'stitch', 'radiohead', 'shirt', 'wahhhh', 'tickley', 'koool', 'dmed', 'poooooool', 'process', 'straighten', 'weee', 'passion', 'pit', 'ibl', 'insight', 'greet', 'fetch', 'bmw', 'checkup', 'calm', 'karynkelbaugh', 'scott', 'christianfarley', 'johnni', 'charliedavid', 'tabitadinda', 'tabithaa', 'ca', 'kudo', 'newest', 'campaign', 'concurr', 'jimmyfallon', 'mn', 'prettynoahcyru', 'lisaloeb', 'ifcb', 'max', 'ooo', 'refresh', 'cano', 'oppos', 'ish', 'timhorton', 'shopper', 'mart', 'hayyleey', 'chelseahobb', 'suzicraig', 'buzz', 'peterpolaco', 'signin', 'autograph', 'thinxtoomuch', 'shin', 'splint', 'rsm', 'lsu', 'feltbeat', 'myy', 'jackiecak', 'dayi', 'shanti', 'dd', 'taje', 'yam', 'gisel', 'gabbi', 'atl', 'brunch', 'irish', 'margit', 'garam', 'chai', 'callygag', 'blag', 'boat', 'popatemyheart', 'pale', 'skipnoscar', 'doctor', 'celtic', 'leagu', 'lkoutza', 'tonizova', 'tiger', 'leyland', 'eject', 'magglio', 'strikeout', 'thecraigmorri', 'est', 'moi', 'merci', 'candi', 'mtn', 'vo', 'tokiohotelusa', 'speech', 'cadistra', 'lit', 'lelliebel', 'miimer', 'robstenrobsten', 'tmrrow', 'kimberlydol', 'philippin', 'kdtwtr', 'statement', 'aim', 'offenc', 'nashhh', 'kaylieeera', 'omin', 'nli', 'taipei', 'jeremi', 'wustefest', 'whack', 'thenextweb', 'scuba', 'happpi', 'ole', 'dedic', 'demiwood', 'clearli', 'neglect', 'ascott', 'pix', 'oap', 'afro', 'peruvian', 'kira', 'uth', 'quad', 'johnsen', 'glum', 'parad', 'gala', 'georgepickl', 'digitaldurga', 'crochet', 'nycgrl', 'ironstruck', 'peel', 'kimespiritu', 'princess', 'diari', 'alemalvi', 'yeiii', 'amz', 'gift', 'canuck', 'northerli', 'xxlucyappxx', 'intellig', 'serafinowicz', 'password', 'bedtim', 'nightmar', 'plain', 'hd', 'ssd', 'stereosound', 'hq', 'transmiss', 'krystyl', 'zannel', 'bake', 'bean', 'melt', 'bitter', 'easier', 'swallow', 'nadhiyamali', 'silent', 'spectat', 'micaht', 'margarita', 'singer', 'autotun', 'mari', 'blige', 'imd', 'owh', 'clever', 'bern', 'direngrey', 'devil', 'palac', 'xboxliv', 'glitch', 'commentari', 'dani', 'boyz', 'peterfacinelli', 'mindywhit', 'spotless', 'ahow', 'carissarho', 'xpressdoc', 'webinar', 'jgfmk', 'decent', 'lightweight', 'brace', 'juanangelovi', 'cahinxman', 'everyond', 'ericmillegan', 'bone', 'grouchypuppi', 'fallout', 'adiasimon', 'buuut', 'fil', 'wisconsin', 'roxi', 'tie', 'reveal', 'forcibl', 'student', 'thesi', 'curiou', 'hellla', 'urgh', 'prettyprat', 'chillen', 'golden', 'meadow', 'layin', 'goodtim', 'khlo', 'hourli', 'jameshoban', 'sniffl', 'recap', 'roxydc', 'drunki', 'wann', 'appart', 'ohohoh', 'rayleerock', 'nothin', 'whoever', 'dinayin', 'cell', 'bottc', 'crazytw', 'hubz', 'compani', 'organis', 'radah', 'anutbal', 'simonexx', 'sittin', 'hopin', 'awar', 'minbitt', 'compliment', 'patti', 'operation', 'bureaucrat', 'scene', 'footag', 'apologet', 'kevin', 'longg', 'managar', 'rafal', 'opinion', 'lunchtim', 'nightli', 'tucsonresid', 'golf', 'edinburgh', 'grantblow', 'buryuntim', 'sheffield', 'penultim', 'blockbust', 'shift', 'opera', 'engin', 'qwerti', 'rlli', 'cow', 'sauc', 'introductori', 'punch', 'flavour', 'holycowfc', 'shane', 'mccarthi', 'yaaaay', 'catwalk', 'seat', 'portland', 'mathildab', 'bull', 'pyjama', 'wockeez', 'missin', 'butttt', 'blockkkkk', 'victoriaaaaaaaa', 'wla', 'nnmn', 'xtine', 'sa', 'lesbian', 'kelici', 'stood', 'breez', 'stackedgroup', 'clog', 'newmarket', 'mcaleavi', 'xkcd', 'gkcd', 'aneeqah', 'browni', 'pig', 'vicari', 'americanadian', 'antiquebasket', 'arunshroff', 'peak', 'speed', 'kbp', 'dial', 'jessicababesss', 'veronica', 'dekko', 'leather', 'sofa', 'vknousem', 'alex', 'rebelli', 'streak', 'american', 'auto', 'industri', 'race', 'mesnick', 'plz', 'lmu', 'brabazon', 'elect', 'donaghmed', 'ward', 'dawn', 'mariahcarey', 'whisper', 'petal', 'lym', 'wander', 'fairi', 'lisa', 'handl', 'ceasar', 'quaker', 'steak', 'lube', 'susanahg', 'niiiiiic', 'khyt', 'polish', 'beverag', 'dva', 'tyzdn', 'pojdem', 'tou', 'istou', 'linkou', 'frighten', 'fuzzywuzzymeg', 'poorr', 'rdifrango', 'reli', 'havin', 'mercedesmari', 'dumb', 'nooooooooooo', 'siiink', 'gillpon', 'tov', 'nervou', 'tb', 'raid', 'rebuild', 'speedi', 'recoveri', 'jeanettejoy', 'roast', 'weed', 'distract', 'econ', 'cramp', 'ihateraquelre', 'bow', 'vanessa', 'preview', 'minerv']\n"
     ]
    }
   ],
   "source": [
    "from nltk.probability import FreqDist\n",
    "\n",
    "list_words = []\n",
    "\n",
    "for row in tweets_sample['text_processed']:\n",
    "    for word in row:\n",
    "        list_words.append(word)\n",
    "\n",
    "list_words = nltk.FreqDist(list_words)\n",
    "print(list_words)\n",
    "\n",
    "top_words = list(list_words.keys())[:5000]\n",
    "print(top_words)"
   ]
  },
  {
   "cell_type": "markdown",
   "metadata": {},
   "source": [
    "### Building Features\n",
    "\n",
    "Now let's build the features. Using the top 5,000 words, create a 2-dimensional matrix to record whether each of those words is contained in each document (tweet). Then you also have an output column to indicate whether the sentiment in each tweet is positive. For example, assuming your bag of words has 5 items (`['one', 'two', 'three', 'four', 'five']`) out of 4 documents (`['A', 'B', 'C', 'D']`), your feature set is essentially:\n",
    "\n",
    "| Doc | one | two | three | four | five | is_positive |\n",
    "|---|---|---|---|---|---|---|\n",
    "| A | True | False | False | True | False | True |\n",
    "| B | False | False | False | True | True | False |\n",
    "| C | False | True | False | False | False | True |\n",
    "| D | True | False | False | False | True | False|\n",
    "\n",
    "However, because the `nltk.NaiveBayesClassifier.train` class we will use in the next step does not work with Pandas dataframe, the structure of your feature set should be converted to the Python list looking like below:\n",
    "\n",
    "```python\n",
    "[\n",
    "\t({\n",
    "\t\t'one': True,\n",
    "\t\t'two': False,\n",
    "\t\t'three': False,\n",
    "\t\t'four': True,\n",
    "\t\t'five': False\n",
    "\t}, True),\n",
    "\t({\n",
    "\t\t'one': False,\n",
    "\t\t'two': False,\n",
    "\t\t'three': False,\n",
    "\t\t'four': True,\n",
    "\t\t'five': True\n",
    "\t}, False),\n",
    "\t({\n",
    "\t\t'one': False,\n",
    "\t\t'two': True,\n",
    "\t\t'three': False,\n",
    "\t\t'four': False,\n",
    "\t\t'five': False\n",
    "\t}, True),\n",
    "\t({\n",
    "\t\t'one': True,\n",
    "\t\t'two': False,\n",
    "\t\t'three': False,\n",
    "\t\t'four': False,\n",
    "\t\t'five': True\n",
    "\t}, False)\n",
    "]\n",
    "```\n",
    "\n",
    "To help you in this step, watch the [following video](https://www.youtube.com/watch?v=-vVskDsHcVc) to learn how to build the feature set with Python and NLTK. The source code in this video can be found [here](https://pythonprogramming.net/words-as-features-nltk-tutorial/)."
   ]
  },
  {
   "cell_type": "markdown",
   "metadata": {},
   "source": [
    "[![Building Features](building-features.jpg)](https://www.youtube.com/watch?v=-vVskDsHcVc)"
   ]
  },
  {
   "cell_type": "code",
   "execution_count": 24,
   "metadata": {},
   "outputs": [],
   "source": [
    "def find_features(document):\n",
    "    \n",
    "    words = set(document)\n",
    "    features = {}\n",
    "    for w in top_words:\n",
    "        features[w] = (w in words)\n",
    "\n",
    "    return features"
   ]
  },
  {
   "cell_type": "code",
   "execution_count": 29,
   "metadata": {},
   "outputs": [
    {
     "name": "stdout",
     "output_type": "stream",
     "text": [
      "20000\n"
     ]
    }
   ],
   "source": [
    "featuresets = [(find_features(tweet), target) for (tweet, target) in list(zip(tweets_sample['text_processed'], tweets_sample['target']))]\n",
    "print(len(featuresets))"
   ]
  },
  {
   "cell_type": "markdown",
   "metadata": {},
   "source": [
    "### Building and Traininng Naive Bayes Model\n",
    "\n",
    "In this step you will split your feature set into a training and a test set. Then you will create a Bayes classifier instance using `nltk.NaiveBayesClassifier.train` ([example](https://www.nltk.org/book/ch06.html)) to train with the training dataset.\n",
    "\n",
    "After training the model, call `classifier.show_most_informative_features()` to inspect the most important features. The output will look like:\n",
    "\n",
    "```\n",
    "Most Informative Features\n",
    "\t    snow = True            False : True   =     34.3 : 1.0\n",
    "\t  easter = True            False : True   =     26.2 : 1.0\n",
    "\t headach = True            False : True   =     20.9 : 1.0\n",
    "\t    argh = True            False : True   =     17.6 : 1.0\n",
    "\tunfortun = True            False : True   =     16.9 : 1.0\n",
    "\t    jona = True             True : False  =     16.2 : 1.0\n",
    "\t     ach = True            False : True   =     14.9 : 1.0\n",
    "\t     sad = True            False : True   =     13.0 : 1.0\n",
    "\t  parent = True            False : True   =     12.9 : 1.0\n",
    "\t  spring = True            False : True   =     12.7 : 1.0\n",
    "```\n",
    "\n",
    "The [following video](https://www.youtube.com/watch?v=rISOsUaTrO4) will help you complete this step. The source code in this video can be found [here](https://pythonprogramming.net/naive-bayes-classifier-nltk-tutorial/)."
   ]
  },
  {
   "cell_type": "markdown",
   "metadata": {},
   "source": [
    "[![Building and Training NB](nb-model-building.jpg)](https://www.youtube.com/watch?v=rISOsUaTrO4)"
   ]
  },
  {
   "cell_type": "code",
   "execution_count": 30,
   "metadata": {},
   "outputs": [],
   "source": [
    "training_set = featuresets[:10000]\n",
    "\n",
    "testing_set = featuresets[10000:]\n",
    "\n",
    "classifier = nltk.NaiveBayesClassifier.train(training_set)"
   ]
  },
  {
   "cell_type": "markdown",
   "metadata": {},
   "source": [
    "### Testing Naive Bayes Model\n",
    "\n",
    "Now we'll test our classifier with the test dataset. This is done by calling `nltk.classify.accuracy(classifier, test)`.\n",
    "\n",
    "As mentioned in one of the tutorial videos, a Naive Bayes model is considered OK if your accuracy score is over 0.6. If your accuracy score is over 0.7, you've done a great job!"
   ]
  },
  {
   "cell_type": "code",
   "execution_count": 31,
   "metadata": {},
   "outputs": [
    {
     "name": "stdout",
     "output_type": "stream",
     "text": [
      "Naive Bayes Algo accuracy percent: 71.54\n"
     ]
    }
   ],
   "source": [
    "nltk.classify.accuracy(classifier, testing_set)\n",
    "print(\"Naive Bayes Algo accuracy percent:\", (nltk.classify.accuracy(classifier, testing_set))*100)"
   ]
  },
  {
   "cell_type": "code",
   "execution_count": 33,
   "metadata": {},
   "outputs": [
    {
     "name": "stdout",
     "output_type": "stream",
     "text": [
      "Since the Naive Bayes Algo accuracy percent is over 0,7, it means that we have done a great job\n"
     ]
    }
   ],
   "source": [
    "print(\"Since the Naive Bayes Algo accuracy percent is over 0,7, it means that we have done a great job\")"
   ]
  },
  {
   "cell_type": "markdown",
   "metadata": {},
   "source": [
    "## Bonus Question 1: Improve Model Performance\n",
    "\n",
    "If you are still not exhausted so far and want to dig deeper, try to improve your classifier performance. There are many aspects you can dig into, for example:\n",
    "\n",
    "* Improve stemming and lemmatization. Inspect your bag of words and the most important features. Are there any words you should furuther remove from analysis? You can append these words to further remove to the stop words list.\n",
    "\n",
    "* Remember we only used the top 5,000 features to build model? Try using different numbers of top features. The bottom line is to use as few features as you can without compromising your model performance. The fewer features you select into your model, the faster your model is trained. Then you can use a larger sample size to improve your model accuracy score."
   ]
  },
  {
   "cell_type": "code",
   "execution_count": null,
   "metadata": {},
   "outputs": [],
   "source": [
    "# your code here"
   ]
  },
  {
   "cell_type": "markdown",
   "metadata": {},
   "source": [
    "## Bonus Question 2: Machine Learning Pipeline\n",
    "\n",
    "In a new Jupyter Notebook, combine all your codes into a function (or a class). Your new function will execute the complete machine learning pipeline job by receiving the dataset location and output the classifier. This will allow you to use your function to predict the sentiment of any tweet in real time. "
   ]
  },
  {
   "cell_type": "code",
   "execution_count": null,
   "metadata": {},
   "outputs": [],
   "source": [
    "# your code here"
   ]
  },
  {
   "cell_type": "markdown",
   "metadata": {},
   "source": [
    "## Bonus Question 3: Apache Spark\n",
    "\n",
    "If you have completed the Apache Spark advanced topic lab, what you can do is to migrate your pipeline from local to a Databricks Notebook. Share your notebook with your instructor and classmates to show off your achievements!"
   ]
  },
  {
   "cell_type": "code",
   "execution_count": null,
   "metadata": {},
   "outputs": [],
   "source": [
    "# your code here"
   ]
  }
 ],
 "metadata": {
  "kernelspec": {
   "display_name": "Python 3 (ipykernel)",
   "language": "python",
   "name": "python3"
  },
  "language_info": {
   "codemirror_mode": {
    "name": "ipython",
    "version": 3
   },
   "file_extension": ".py",
   "mimetype": "text/x-python",
   "name": "python",
   "nbconvert_exporter": "python",
   "pygments_lexer": "ipython3",
   "version": "3.9.6"
  }
 },
 "nbformat": 4,
 "nbformat_minor": 2
}
